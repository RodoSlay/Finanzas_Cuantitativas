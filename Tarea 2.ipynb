{
 "cells": [
  {
   "cell_type": "markdown",
   "metadata": {},
   "source": [
    "<img style=\"float: left; margin: 30px 15px 15px 15px;\" src=\"https://pngimage.net/wp-content/uploads/2018/06/logo-iteso-png-5.png\" width=\"300\" height=\"500\" /> \n",
    "    \n",
    "    \n",
    "### <font color='navy'> Finanzas Cuantitativas. \n",
    "\n",
    "**Nombres:** Jesús Álvarez, Ariadna Galindo, Romina Gutierrez y Rodolfo Slay.\n",
    "\n",
    "**Fecha:** 31 Agosto 2020.\n",
    "\n",
    "**Expediente** : 714552, 718272, 718415 y 715214.\n"
   ]
  },
  {
   "cell_type": "markdown",
   "metadata": {},
   "source": [
    "## 2.1 Encontrar los parametros de ML que mejor se ajusten a la distribucion (Bernoulli o Poisson)\n",
    "\n",
    "Hemos escogido usar Poisson y recordamos que su distribucion es la siguiente:\n",
    "$$f(k,\\lambda)=\\frac{e^{-\\lambda}\\lambda^k}{k!}$$\n",
    "Su funcion de Maxima Verosimilitud (ML) es:\n",
    "$$L(\\lambda;x)=\\prod_{i=1}^n f(x_i;\\lambda)$$\n",
    "Donde suponemos que $X=X_1,X_2,X_3,...$ son las observaciones y tenemos un parametro desconocido al que llamamos $\\lambda$\n",
    "Todas las observaciones las asumimos como independientes, por lo que la funcion de verosimilitud es igual al producto de sus probabilidades. \n",
    "$$L(\\lambda;X_1,X_2,...,x_n)=\\prod_{i=1}^nf_X(X_i;\\lambda)$$\n",
    "Al incluir la distribucion original obtenemos:\n",
    "$$=\\prod_{i=1}^n\\frac{e^{-\\lambda}\\lambda^{x_i}}{x_i!} $$\n",
    "Aplicamos logaritmo a toda la funcion:\n",
    "$$l(\\lambda;X_1,X_2,...,x_n)=ln\\left(\\prod_{i=1}^n\\frac{e^{-\\lambda}\\lambda^{x_i}}{x_i!} \\right)$$\n",
    "$$=\\sum_{i=1}^n ln\\left(\\frac{e^{-\\lambda}\\lambda^{x_i}}{x_i!} \\right)$$\n",
    "Podemos acomodar las fracciones dentro del logaritmo usando las propiedades de los logaritmos\n",
    "$$=\\sum_{i=1}^n ln(e^{-\\lambda})+ln(\\lambda^{x_i})-ln(x_i!)$$\n",
    "al reducirlo obtenemos...\n",
    "$$=-n\\lambda-\\sum_{i=1}^n ln(x_i!)+\\lambda\\sum_{i=1}^nx_i$$\n",
    "La MLE es la solucion de maximizar la funcion\n",
    "$$\\hat{\\lambda}=\\arg \\max_{\\lambda} l(\\lambda;x_1,...,x_n)$$\n",
    "Recordemos la primer condicion para obtener los maximos\n",
    "$$\\frac{d}{d\\lambda}l(\\lambda;x_1,...,x_n)=0$$\n",
    "Por lo que obtenemos la derivada de la funcion donde habiamos aplicado logaritmos\n",
    "$$\\frac{d}{d\\lambda}l(\\lambda;x_1,...,x_n)=\\frac{d}{d\\lambda}\\left(-n\\lambda-\\sum_{i=1}^n ln(x_i!)+\\lambda\\sum_{i=1}^nx_i\\right)$$\n",
    "$$=-n+\\frac{1}{\\lambda}\\sum_{i=1}^nx_i$$\n",
    "... igualamos a cero y concluimos que\n",
    "$$\\lambda=\\frac{1}{n}\\sum_{i=1}^nx_i$$"
   ]
  },
  {
   "cell_type": "markdown",
   "metadata": {},
   "source": [
    "## 2.2 Investigar propiedades de variables aleatorias\n",
    "\n",
    "#### Distribucion normal\n",
    "$$f(x)=\\frac{1}{\\sqrt{2\\pi\\sigma}}e^{-\\frac{(x-\\mu)^2}{2\\sigma^2}}$$\n",
    "- Su esperanza es $\\mu$\n",
    "- Su varianza es $\\sigma^2$ y, por lo tanto, su desviacion tipica es $\\sigma$\n",
    "- Es simetrica respecto a su media $\\mu$ \n",
    "- Media, moda y mediana coinciden en $\\mu$\n",
    "- Cualquier transformacion lineal de una variable de distribucion normal seguira manteniendo la normalidad\n",
    "- Cualquier combinacion lineal de variables normales mantendran su normalidad\n",
    "#### Distribucion de Poisson\n",
    "$$f(k,\\lambda)=\\frac{e^{-\\lambda}\\lambda^k}{k!}$$\n",
    "- Su esperanza es $E(X)=\\lambda$\n",
    "- Su varianza es $v(X)=\\lambda$\n",
    "- La suma de dos variables aleatorias independientes con esta distribucion siguen siendo aleatorias y mantienen la distribucion de Poisson\n",
    "#### Distribucion Binomial\n",
    "$$f(k)=P[X=k]=\\begin{pmatrix}n \\\\ k\\end{pmatrix}p^kq^{n-k}$$\n",
    "- La muestra se compone de un numero fijo de observaciones $n$\n",
    "- Cada observacion entra en *mutuamente incluyentes* o *mutuamente excluyentes*, pero NO simultaneamente\n",
    "- La probabilidad de ocurrencia es siempre CONTINUA\n",
    "- Tiene un rango de $(0,n)$"
   ]
  },
  {
   "cell_type": "markdown",
   "metadata": {},
   "source": [
    "### Bibliografia\n",
    "- Taboga, Marco (2017). \"Poisson distribution - Maximum Likelihood Estimation\", Lectures on probability theory and mathematical statistics, Third edition. Kindle Direct Publishing. Online appendix. https://www.statlect.com/fundamentals-of-statistics/Poisson-distribution-maximum-likelihood\n",
    "- https://online.stat.psu.edu/stat504/node/28/\n",
    "- http://www.ub.edu/stat/GrupsInnovacio/Statmedia/demo/Temas/Capitulo4/B0C4m1t4.htm#:~:text=Propiedades%20del%20modelo%20Normal&text=Su%20varianza%20es%20%CF%832,seguir%C3%A1%20tambi%C3%A9n%20el%20modelo%20Normal.\n",
    "- http://www.ub.edu/stat/GrupsInnovacio/Statmedia/demo/Temas/Capitulo3/B0C3m1t6.htm\n",
    "- https://es.slideshare.net/sonyelockheart/distribucin-bernoulli-y-distribucin-binomial"
   ]
  }
 ],
 "metadata": {
  "kernelspec": {
   "display_name": "Python 3",
   "language": "python",
   "name": "python3"
  },
  "language_info": {
   "codemirror_mode": {
    "name": "ipython",
    "version": 3
   },
   "file_extension": ".py",
   "mimetype": "text/x-python",
   "name": "python",
   "nbconvert_exporter": "python",
   "pygments_lexer": "ipython3",
   "version": "3.7.3"
  }
 },
 "nbformat": 4,
 "nbformat_minor": 2
}
