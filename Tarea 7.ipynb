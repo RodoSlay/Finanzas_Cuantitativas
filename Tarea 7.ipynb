{
 "cells": [
  {
   "cell_type": "markdown",
   "metadata": {},
   "source": [
    "<img style=\"float: left; margin: 30px 15px 15px 15px;\" src=\"https://pngimage.net/wp-content/uploads/2018/06/logo-iteso-png-5.png\" width=\"300\" height=\"500\" /> \n",
    "    \n",
    "    \n",
    "### <font color='navy'> Finanzas Cuantitativas. \n",
    "\n",
    "**Nombres:** Jesús Álvarez, Ariadna Galindo, Romina Gutierrez y Rodolfo Slay.\n",
    "\n",
    "**Fecha:** 23 de septiembre del 2020.\n",
    "\n",
    "**Expediente** : 714552, 718272, 718415 y 715214."
   ]
  },
  {
   "cell_type": "markdown",
   "metadata": {},
   "source": [
    "Derive in details in Latex the solution for the fair value for binary call.\n",
    "\n",
    "**1) Asset or nothing**"
   ]
  },
  {
   "cell_type": "markdown",
   "metadata": {},
   "source": [
    "El modelo del derivado es:\n",
    "$$f_t=e^{r(T-t)} \\hat E_t [f_T]$$\n",
    "\n",
    "El valor de $C_T$ depende de $S_T$ y $t$\n",
    "\\begin{equation}\n",
    "    C_T(t,S_t)^{AN}= \\left\\lbrace\n",
    "    \\begin{array}{ll}\n",
    "    \\text{} S_T \\geq K & S_T\\\\\n",
    "    \\text{} S_T<K & 0\n",
    "    \\end{array}\n",
    "    \\right.\n",
    "\\end{equation}\n",
    "\n",
    "Trabajaremos con logaritmos por su simplicidad\n",
    "\\begin{equation}\n",
    "    C_T(t,S_t)^{AN}= \\left\\lbrace\n",
    "    \\begin{array}{ll}\n",
    "    \\text{} ln(S_T) \\geq ln(K) & S_T\\\\\n",
    "    \\text{} ln(S_T)<ln(K) & 0\n",
    "    \\end{array}\n",
    "    \\right.\n",
    "\\end{equation}\n",
    "\n",
    "Por lo tanto el \"premio\" al tiempo $t$ es $f_T=C_T(t,S_t)^{AN}=C_T^{AN}$\n",
    "\n",
    "$$f_t=e^{r(T-t)} \\hat E_t [C_T^{AN}]$$\n",
    "\n",
    "Recordamos el modelo del stock\n",
    "$$dS_t=(\\mu -\\frac{\\sigma^2}{2})S_t(d_t)+S_t\\sigma(dW_t)$$\n",
    "De igual manera su logaritmo\n",
    "$$ln\\left(\\frac{dS_t}{S_t}\\right)=(\\mu -\\frac{\\sigma^2}{2})(d_t)+\\sigma(dW_t)$$\n",
    "Nosotros queremos llegar a una forma normal similar a la siguiente\n",
    "$$ \\left[\\int_{-\\infty}^x \\frac{1}{\\sqrt{2\\pi \\sigma^2}}e^{\\frac{-1}{2}[\\frac{z-\\mu}{\\sigma}]^2}dz\\right]= \\left[\\int_{-\\infty}^x \\frac{1}{\\sqrt{2\\pi}}e^{\\frac{-1}{2}[z]^2}dz\\right]$$\n",
    "Definimos $\\mathbb{X}\\colon =ln(S_T)$ y obtenemos su valor esperado\n",
    "$$\\mathbb{E[X]=E}[ln(S_t)+(\\mu -\\frac{\\sigma^2}{2})(T-t)+\\sigma(dW_t)] $$\n",
    "$$var[\\mathbb{X}]=var[ln(S_T)]=\\sigma^2(T-t)$$\n",
    "Se comporta\n",
    "$$\\mathbb{X}\\sim N((ln(S_t)+(\\mu-\\frac{\\sigma^2}{2})(T-t),\\sigma^2(T-t)$$"
   ]
  },
  {
   "cell_type": "markdown",
   "metadata": {},
   "source": [
    "Expresamos el modelo de derivados en terminos de $\\mathbb{X}$\n",
    "$$f_t=e^{-r(T-t)}\\mathbb{\\hat E}_t [C_T^{AN}(t,\\mathbb{X})]$$\n",
    "Nos concentraremos solo en $\\mathbb{\\hat E}_t [C_T^{AN}(t,\\mathbb{X})]$\n",
    "\n",
    "Siguiendo la definicion del valor esperado $\\mathbb{[E]}=\\int_{-\\infty}^\\infty(x)p(x)dx$ donde $p(x)$ es la funcion de densidad de la probabilidad de $x$. Por lo tanto\n",
    "$$\\mathbb{\\hat E}_t[C_T^{AN}(t,\\mathbb{X})]=\\int_{-\\infty}^\\infty(C_T^{AN}(t,\\mathbb{X}))p(\\mathbb{X})d\\mathbb{X}$$\n",
    "Entonces en una situacion neutral al riesgo tenemos\n",
    "$$\\mathbb{X}\\sim N((ln(S_t)+(r-\\frac{\\sigma^2}{2})(T-t),\\sigma^2(T-t)$$\n",
    "cuya probabilidad es\n",
    "$$p(\\mathbb{X})=\\frac{1}{\\sqrt{2\\pi\\sigma^2(T-t)}}e^{\\frac{-1}{2}\\left(\\frac{x-[ln(S_t)+(r-\\frac{\\sigma^2}{2})(T-t)]}{\\sigma\\sqrt{(T-t)}}\\right)^2}$$\n",
    "Separamos el valor esperado del premio en dos\n",
    "$$\\int_{-\\infty}^\\infty(C_T^{AN}(t,\\mathbb{X}))p(\\mathbb{X})d\\mathbb{X}=\\int_{-\\infty}^{ln(K)}(C_T^{AN}(t,\\mathbb{X}))p(\\mathbb{X})d\\mathbb{X}+\\int_{ln(K)}^{\\infty}(C_T^{AN}(t,\\mathbb{X}))p(\\mathbb{X})d\\mathbb{X}$$\n",
    "Recordemos que previamente habiamos definido $\\mathbb{X}$ como $\\mathbb{X}=ln(S_T)$ por lo que $S_T=e^{\\mathbb{X}}$ "
   ]
  },
  {
   "cell_type": "markdown",
   "metadata": {},
   "source": [
    "$$\\mathbb{\\hat E}_t[C_T^{AN}(t,\\mathbb{X})]=\\int_{-\\infty}^{ln(K)}0 p(\\mathbb{X})d\\mathbb{X}+\\int_{ln(K)}^{\\infty}e^{\\mathbb{X}}p(\\mathbb{X})d\\mathbb{X}$$\n",
    "Reemplazamos $p(\\mathbb{X})$\n",
    "$$\\mathbb{\\hat E}_t[C_T^{AN}(t,\\mathbb{X})]=\\int_{ln(K)}^{\\infty}e^{\\mathbb{X}}\\frac{1}{\\sqrt{2\\pi\\sigma^2(T-t)}}e^{\\frac{-1}{2}\\left(\\frac{x-[ln(S_t)+(r-\\frac{\\sigma^2}{2})(T-t)]}{\\sigma\\sqrt{(T-t)}}\\right)^2}d\\mathbb{X}$$\n",
    "Definimos z\n",
    "$$z=\\frac{\\mathbb{X}-[ln(S_t)+(r-\\frac{\\sigma^2}{2})(T-t)]}{\\sigma\\sqrt{(T-t)}}$$\n",
    "$$\\frac{dz}{d\\mathbb{X}}=\\frac{1}{\\sigma\\sqrt{(T-t)}}$$\n",
    "$$dz=\\frac{d\\mathbb{X}}{\\sigma\\sqrt{(T-t)}}$$\n",
    "$$d\\mathbb{X}=dz\\sigma\\sqrt{(T-t)}$$\n",
    "\n",
    "Evaluamos el limite para $\\mathbb{X}=ln(K)$\n",
    "$$z=\\frac{ln(K)-ln(S_t)+(r-\\frac{\\sigma^2}{2})(T-t)}{\\sigma\\sqrt{(T-t)}}$$\n",
    "$$z=-\\frac{ln(\\frac{S_t}{K})+(r-\\frac{\\sigma^2}{2})(T-t)}{\\sigma\\sqrt{(T-t)}}:=-d_2$$\n",
    "Si $\\mathbb{X}\\to -\\infty$ entonces $z\\to -\\infty$ en terminos de z\n",
    "$$\\mathbb{\\hat E}_t[C_T^{AN}(t,\\mathbb{X})]=\\int_{-d_2}^{\\infty}e^{\\mathbb{X}}\\frac{1}{\\sqrt{2\\pi\\sigma^2(T-t)}}e^{\\frac{-1}{2}\\left(z\\right)^2}dz\\sigma\\sqrt{(T-t)}$$\n",
    "$$\\mathbb{\\hat E}_t[C_T^{AN}(t,\\mathbb{X})]=\\int_{-d_2}^{\\infty}e^{\\mathbb{X}}\\frac{1}{\\sigma\\sqrt{2\\pi}\\sqrt{(T-t)}}e^{\\frac{-1}{2}\\left(z\\right)^2}dz\\sigma\\sqrt{(T-t)}$$\n",
    "$$\\mathbb{\\hat E}_t[C_T^{AN}(t,\\mathbb{X})]=\\int_{-d_2}^{\\infty}e^{\\mathbb{X}}\\frac{1}{\\sqrt{2\\pi}}e^{\\frac{-1}{2}\\left(z\\right)^2}dz$$"
   ]
  },
  {
   "cell_type": "markdown",
   "metadata": {},
   "source": [
    "Necesitamos despejar $\\mathbb{X}$ en terminos de $z$\n",
    "$$z=\\frac{\\mathbb{X}-[ln(S_t)+(r-\\frac{\\sigma^2}{2})(T-t)]}{\\sigma\\sqrt{(T-t)}}$$\n",
    "$$z(\\sigma\\sqrt{(T-t)}=\\mathbb{X}-[ln(S_t)+(r-\\frac{\\sigma^2}{2})(T-t)]$$\n",
    "$$\\mathbb{X}=z(\\sigma\\sqrt{(T-t)}+ln(S_t)+(r-\\frac{\\sigma^2}{2})(T-t)$$\n",
    "Reemplazamos $\\mathbb{X}$\n",
    "$$\\mathbb{\\hat E}_t[C_T^{AN}(t,\\mathbb{X})]=\\int_{-d_2}^{\\infty}e^{z(\\sigma\\sqrt{(T-t)}+ln(S_t)+(r-\\frac{\\sigma^2}{2})(T-t)}\\frac{1}{\\sqrt{2\\pi}}e^{\\frac{-1}{2}\\left(z\\right)^2}dz$$\n",
    "Reagrupando\n",
    "$$\\mathbb{\\hat E}_t[C_T^{AN}(t,\\mathbb{X})]=\\frac{1}{\\sqrt{2\\pi}}\\int_{-d_2}^{\\infty}e^{z(\\sigma\\sqrt{(T-t)})+ln(S_t)+(r-\\frac{\\sigma^2}{2})(T-t)-\\frac{1}{2}\\left(z\\right)^2}dz$$\n",
    "Tomando solo el exponente\n",
    "$$z(\\sigma\\sqrt{(T-t)})+ln(S_t)+(r-\\frac{\\sigma^2}{2})(T-t)-\\frac{1}{2}\\left(z\\right)^2$$\n",
    "$$z(\\sigma\\sqrt{(T-t)})+ln(S_t)+[r(T-t)-\\frac{\\sigma^2}{2}(T-t)]-\\frac{1}{2}\\left(z\\right)^2$$"
   ]
  },
  {
   "cell_type": "markdown",
   "metadata": {},
   "source": [
    "$$-\\frac{1}{2}[z^2 -2z\\sigma\\sqrt{(T-t)} -2r(T-t)+\\sigma^2(T-t)]+ln(S_t)$$\n",
    "Completando el binomio\n",
    "$$-\\frac{1}{2}[z^2 -2z\\sigma\\sqrt{(T-t)}+\\sigma^2(T-t)] +r(T-t)+ln(S_t)$$\n",
    "$$-\\frac{1}{2}[z-\\sigma\\sqrt{(T-t)}]^2+r(T-t)+ln(S_t)$$\n",
    "Regresamos el exponente\n",
    "$$\\mathbb{\\hat E}_t[C_T^{AN}(t,\\mathbb{X})]=\\frac{1}{\\sqrt{2\\pi}}\\int_{-d_2}^{\\infty}e^{-\\frac{1}{2}[z-\\sigma\\sqrt{(T-t)}]^2+r(T-t)+ln(S_t)}dz$$\n",
    "$$\\mathbb{\\hat E}_t[C_T^{AN}(t,\\mathbb{X})]=\\frac{1}{\\sqrt{2\\pi}}\\int_{-d_2}^{\\infty}e^{-\\frac{1}{2}[z-\\sigma\\sqrt{(T-t)}]^2}e^{r(T-t)}+e^{ln(S_t)}dz$$\n",
    "$$\\mathbb{\\hat E}_t[C_T^{AN}(t,\\mathbb{X})]=\\frac{1}{\\sqrt{2\\pi}}\\int_{-d_2}^{\\infty}e^{-\\frac{1}{2}[z-\\sigma\\sqrt{(T-t)}]^2}e^{r(T-t)}(S_t)dz$$\n",
    "Sacamos todas las constantes\n",
    "$$\\mathbb{\\hat E}_t[C_T^{AN}(t,\\mathbb{X})]=\\frac{1}{\\sqrt{2\\pi}}(S_t)e^{r(T-t)}\n",
    "\\int_{-d_2}^{\\infty}e^{-\\frac{1}{2}[z-\\sigma\\sqrt{(T-t)}]^2}dz$$\n",
    "Proponemos $y=z-\\sigma\\sqrt{(T-t)}$\n",
    "\n",
    "Si $\\frac{dy}{dz}=1 \\to dy=dz$ entonces cumple $z\\to -\\infty$ por lo que $z\\to -\\infty$ podemos expresar en terminos de z y recordando B&S hacemos el siguiente cambio de variables ($d_2=d_1-\\sigma\\sqrt{(T-t)}$ )\n",
    "\n",
    "$$\\mathbb{\\hat E}_t[C_T^{AN}(t,\\mathbb{X})]=(S_t)e^{r(T-t)}\n",
    "\\int_{-d_1}^{\\infty}\\frac{1}{\\sqrt{2\\pi}}e^{-\\frac{1}{2}[y]^2}dy$$\n",
    "modificamos los limites de la siguiente manera\n",
    "$$\\mathbb{\\hat E}_t[C_T^{AN}(t,\\mathbb{X})]=\\frac{1}{\\sqrt{2\\pi}}(S_t)e^{r(T-t)}\n",
    "\\int_{-\\infty}^{d_1}e^{-\\frac{1}{2}[y]^2}dy$$\n",
    "$$\\int_{-\\infty}^{d_1}\\frac{1}{\\sqrt{2\\pi}}e^{-\\frac{1}{2}[y]^2}dy:=N(d_1)$$\n",
    "\n",
    "$$\\mathbb{\\hat E}_t[C_T^{AN}(t,\\mathbb{X})]=(S_t)e^{r(T-t)}N(d_1)$$\n",
    "$$f_t=e^{-r(T-t)}(S_t)e^{r(T-t)}N(d_1)$$\n",
    "$$f_t=(S_t)N(d_1)$$"
   ]
  },
  {
   "cell_type": "markdown",
   "metadata": {},
   "source": [
    "**2) Cash or nothing**"
   ]
  },
  {
   "cell_type": "markdown",
   "metadata": {},
   "source": []
  }
 ],
 "metadata": {
  "kernelspec": {
   "display_name": "Python 3",
   "language": "python",
   "name": "python3"
  },
  "language_info": {
   "codemirror_mode": {
    "name": "ipython",
    "version": 3
   },
   "file_extension": ".py",
   "mimetype": "text/x-python",
   "name": "python",
   "nbconvert_exporter": "python",
   "pygments_lexer": "ipython3",
   "version": "3.8.3"
  }
 },
 "nbformat": 4,
 "nbformat_minor": 4
}
