{
 "cells": [
  {
   "cell_type": "markdown",
   "metadata": {},
   "source": [
    "<img style=\"float: left; margin: 30px 15px 15px 15px;\" src=\"https://pngimage.net/wp-content/uploads/2018/06/logo-iteso-png-5.png\" width=\"300\" height=\"500\" /> \n",
    "    \n",
    "    \n",
    "### <font color='navy'> Finanzas Cuantitativas. \n",
    "\n",
    "**Nombres:** Jesús Álvarez, Ariadna Galindo, Romina Gutierrez y Rodolfo Slay.\n",
    "\n",
    "**Fecha:** 16 de septiembre del 2020.\n",
    "\n",
    "**Expediente** : 714552, 718272, 713415 y 715214."
   ]
  },
  {
   "cell_type": "markdown",
   "metadata": {},
   "source": [
    "## Tarea 5.1\n",
    "CHECK THE DESCRIPTIVE STADISTIC OF MODEL 1 USING 100,000 SIMULATIONS.\n",
    "* S0=100\n",
    "* n=1\n",
    "* Mu=3%\n",
    "* sigma=25%"
   ]
  },
  {
   "cell_type": "code",
   "execution_count": 3,
   "metadata": {},
   "outputs": [],
   "source": [
    "import numpy as np\n",
    "import pandas as pd\n",
    "import matplotlib.pyplot as plt\n",
    "import seaborn as sns\n",
    "from scipy import stats as st\n",
    "import pandas_datareader.data as web"
   ]
  },
  {
   "cell_type": "markdown",
   "metadata": {},
   "source": [
    "### Check the descriptive statistic of  MODEL 1 using 100,000 simulations."
   ]
  },
  {
   "cell_type": "code",
   "execution_count": 4,
   "metadata": {},
   "outputs": [],
   "source": [
    "s0=100\n",
    "n=1\n",
    "mu=0.03\n",
    "sigma=0.25\n"
   ]
  },
  {
   "cell_type": "code",
   "execution_count": null,
   "metadata": {},
   "outputs": [],
   "source": [
    "sim = 100000\n",
    "t = 100\n",
    "\n",
    "Sn=pd.DataFrame(np.zeros((t,sim)))\n",
    "Sn.iloc[0,:]=s0\n",
    "for j in range(sim):\n",
    "    for i in range(t-1):\n",
    "        Sn.iloc[i+1,j] = Sn.iloc[i,j]*np.exp((mu-0.5*sigma*sigma)*n+sigma*np.random.normal(size=1))"
   ]
  },
  {
   "cell_type": "code",
   "execution_count": 48,
   "metadata": {},
   "outputs": [],
   "source": [
    "Data= np.log(Sn)-np.log(Sn.shift(1))\n",
    "Data=Sn.dropna()"
   ]
  },
  {
   "cell_type": "markdown",
   "metadata": {},
   "source": [
    "## Modelo 1:"
   ]
  },
  {
   "cell_type": "code",
   "execution_count": 22,
   "metadata": {},
   "outputs": [
    {
     "data": {
      "text/plain": [
       "0      12.273793\n",
       "1      49.288635\n",
       "2      28.116470\n",
       "3      16.082653\n",
       "4    2112.658128\n",
       "dtype: float64"
      ]
     },
     "execution_count": 22,
     "metadata": {},
     "output_type": "execute_result"
    }
   ],
   "source": [
    "Sn.mean().head()\n"
   ]
  },
  {
   "cell_type": "code",
   "execution_count": 23,
   "metadata": {},
   "outputs": [
    {
     "data": {
      "text/plain": [
       "0    3.716016e+02\n",
       "1    1.112606e+03\n",
       "2    9.097629e+02\n",
       "3    3.987171e+02\n",
       "4    5.548738e+06\n",
       "dtype: float64"
      ]
     },
     "execution_count": 23,
     "metadata": {},
     "output_type": "execute_result"
    }
   ],
   "source": [
    "Sn.var().head()\n"
   ]
  },
  {
   "cell_type": "code",
   "execution_count": 24,
   "metadata": {},
   "outputs": [
    {
     "data": {
      "text/plain": [
       "0      19.276970\n",
       "1      33.355743\n",
       "2      30.162276\n",
       "3      19.967903\n",
       "4    2355.575927\n",
       "dtype: float64"
      ]
     },
     "execution_count": 24,
     "metadata": {},
     "output_type": "execute_result"
    }
   ],
   "source": [
    "Sn.std().head()\n"
   ]
  },
  {
   "cell_type": "code",
   "execution_count": 25,
   "metadata": {},
   "outputs": [
    {
     "data": {
      "text/plain": [
       "0       4.546599\n",
       "1      43.795386\n",
       "2      14.744586\n",
       "3       9.677268\n",
       "4    1189.439446\n",
       "dtype: float64"
      ]
     },
     "execution_count": 25,
     "metadata": {},
     "output_type": "execute_result"
    }
   ],
   "source": [
    "Sn.median().head()\n"
   ]
  },
  {
   "cell_type": "code",
   "execution_count": 26,
   "metadata": {},
   "outputs": [
    {
     "data": {
      "text/html": [
       "<div>\n",
       "<style scoped>\n",
       "    .dataframe tbody tr th:only-of-type {\n",
       "        vertical-align: middle;\n",
       "    }\n",
       "\n",
       "    .dataframe tbody tr th {\n",
       "        vertical-align: top;\n",
       "    }\n",
       "\n",
       "    .dataframe thead th {\n",
       "        text-align: right;\n",
       "    }\n",
       "</style>\n",
       "<table border=\"1\" class=\"dataframe\">\n",
       "  <thead>\n",
       "    <tr style=\"text-align: right;\">\n",
       "      <th></th>\n",
       "      <th>0</th>\n",
       "      <th>1</th>\n",
       "      <th>2</th>\n",
       "      <th>3</th>\n",
       "      <th>4</th>\n",
       "      <th>5</th>\n",
       "      <th>6</th>\n",
       "      <th>7</th>\n",
       "      <th>8</th>\n",
       "      <th>9</th>\n",
       "    </tr>\n",
       "  </thead>\n",
       "  <tbody>\n",
       "    <tr>\n",
       "      <th>0</th>\n",
       "      <td>0.259908</td>\n",
       "      <td>0.727303</td>\n",
       "      <td>5.361895</td>\n",
       "      <td>1.623040</td>\n",
       "      <td>60.020162</td>\n",
       "      <td>10.788095</td>\n",
       "      <td>48.265106</td>\n",
       "      <td>0.801512</td>\n",
       "      <td>75.431870</td>\n",
       "      <td>8.960057</td>\n",
       "    </tr>\n",
       "    <tr>\n",
       "      <th>1</th>\n",
       "      <td>0.276152</td>\n",
       "      <td>0.795953</td>\n",
       "      <td>5.987155</td>\n",
       "      <td>1.793295</td>\n",
       "      <td>62.583320</td>\n",
       "      <td>10.806658</td>\n",
       "      <td>52.811346</td>\n",
       "      <td>1.004364</td>\n",
       "      <td>81.934956</td>\n",
       "      <td>9.513649</td>\n",
       "    </tr>\n",
       "    <tr>\n",
       "      <th>2</th>\n",
       "      <td>0.295149</td>\n",
       "      <td>0.871625</td>\n",
       "      <td>6.138592</td>\n",
       "      <td>2.093416</td>\n",
       "      <td>69.106760</td>\n",
       "      <td>11.668699</td>\n",
       "      <td>53.373166</td>\n",
       "      <td>1.149157</td>\n",
       "      <td>90.277670</td>\n",
       "      <td>10.322741</td>\n",
       "    </tr>\n",
       "    <tr>\n",
       "      <th>3</th>\n",
       "      <td>0.317401</td>\n",
       "      <td>1.341207</td>\n",
       "      <td>6.767427</td>\n",
       "      <td>2.167592</td>\n",
       "      <td>74.614786</td>\n",
       "      <td>12.054990</td>\n",
       "      <td>56.190224</td>\n",
       "      <td>1.368297</td>\n",
       "      <td>93.388359</td>\n",
       "      <td>10.907710</td>\n",
       "    </tr>\n",
       "    <tr>\n",
       "      <th>4</th>\n",
       "      <td>0.319184</td>\n",
       "      <td>2.581165</td>\n",
       "      <td>7.062744</td>\n",
       "      <td>2.357227</td>\n",
       "      <td>75.702485</td>\n",
       "      <td>12.103312</td>\n",
       "      <td>56.985862</td>\n",
       "      <td>1.483804</td>\n",
       "      <td>99.330394</td>\n",
       "      <td>14.538652</td>\n",
       "    </tr>\n",
       "  </tbody>\n",
       "</table>\n",
       "</div>"
      ],
      "text/plain": [
       "          0         1         2         3          4          5          6  \\\n",
       "0  0.259908  0.727303  5.361895  1.623040  60.020162  10.788095  48.265106   \n",
       "1  0.276152  0.795953  5.987155  1.793295  62.583320  10.806658  52.811346   \n",
       "2  0.295149  0.871625  6.138592  2.093416  69.106760  11.668699  53.373166   \n",
       "3  0.317401  1.341207  6.767427  2.167592  74.614786  12.054990  56.190224   \n",
       "4  0.319184  2.581165  7.062744  2.357227  75.702485  12.103312  56.985862   \n",
       "\n",
       "          7          8          9  \n",
       "0  0.801512  75.431870   8.960057  \n",
       "1  1.004364  81.934956   9.513649  \n",
       "2  1.149157  90.277670  10.322741  \n",
       "3  1.368297  93.388359  10.907710  \n",
       "4  1.483804  99.330394  14.538652  "
      ]
     },
     "execution_count": 26,
     "metadata": {},
     "output_type": "execute_result"
    }
   ],
   "source": [
    "Sn.mode().head()\n"
   ]
  },
  {
   "cell_type": "code",
   "execution_count": 27,
   "metadata": {},
   "outputs": [
    {
     "data": {
      "text/plain": [
       "0    6.345326\n",
       "1   -0.461477\n",
       "2    1.983895\n",
       "3    7.345023\n",
       "4   -0.288927\n",
       "dtype: float64"
      ]
     },
     "execution_count": 27,
     "metadata": {},
     "output_type": "execute_result"
    }
   ],
   "source": [
    "Sn.kurtosis().head()\n"
   ]
  },
  {
   "cell_type": "code",
   "execution_count": 28,
   "metadata": {
    "scrolled": true
   },
   "outputs": [
    {
     "data": {
      "text/plain": [
       "0    2.525738\n",
       "1    0.489506\n",
       "2    1.749133\n",
       "3    2.574609\n",
       "4    0.933319\n",
       "dtype: float64"
      ]
     },
     "execution_count": 28,
     "metadata": {},
     "output_type": "execute_result"
    }
   ],
   "source": [
    "Sn.skew().head()"
   ]
  },
  {
   "cell_type": "markdown",
   "metadata": {},
   "source": [
    "## Plot "
   ]
  },
  {
   "cell_type": "code",
   "execution_count": 29,
   "metadata": {
    "scrolled": true
   },
   "outputs": [
    {
     "data": {
      "text/plain": [
       "<matplotlib.axes._subplots.AxesSubplot at 0x1a1ddabba8>"
      ]
     },
     "execution_count": 29,
     "metadata": {},
     "output_type": "execute_result"
    },
    {
     "data": {
      "image/png": "[encoded data removed]",
      "text/plain": [
       "<Figure size 432x288 with 1 Axes>"
      ]
     },
     "metadata": {
      "needs_background": "light"
     },
     "output_type": "display_data"
    }
   ],
   "source": [
    "Sn.plot()"
   ]
  },
  {
   "cell_type": "markdown",
   "metadata": {},
   "source": [
    "## Histograma "
   ]
  },
  {
   "cell_type": "code",
   "execution_count": 30,
   "metadata": {},
   "outputs": [
    {
     "data": {
      "text/plain": [
       "<matplotlib.axes._subplots.AxesSubplot at 0x1a1e4cca20>"
      ]
     },
     "execution_count": 30,
     "metadata": {},
     "output_type": "execute_result"
    },
    {
     "data": {
      "image/png": "[encoded data removed]",
      "text/plain": [
       "<Figure size 432x288 with 1 Axes>"
      ]
     },
     "metadata": {
      "needs_background": "light"
     },
     "output_type": "display_data"
    }
   ],
   "source": [
    "Sn.plot.hist()"
   ]
  },
  {
   "cell_type": "markdown",
   "metadata": {},
   "source": [
    "## Estadistica descriptiva de los retornos logaritmicos:"
   ]
  },
  {
   "cell_type": "code",
   "execution_count": 31,
   "metadata": {},
   "outputs": [
    {
     "data": {
      "text/plain": [
       "0      12.273793\n",
       "1      49.288635\n",
       "2      28.116470\n",
       "3      16.082653\n",
       "4    2112.658128\n",
       "dtype: float64"
      ]
     },
     "execution_count": 31,
     "metadata": {},
     "output_type": "execute_result"
    }
   ],
   "source": [
    "Data.mean().head()"
   ]
  },
  {
   "cell_type": "code",
   "execution_count": 32,
   "metadata": {},
   "outputs": [
    {
     "data": {
      "text/plain": [
       "0    3.716016e+02\n",
       "1    1.112606e+03\n",
       "2    9.097629e+02\n",
       "3    3.987171e+02\n",
       "4    5.548738e+06\n",
       "dtype: float64"
      ]
     },
     "execution_count": 32,
     "metadata": {},
     "output_type": "execute_result"
    }
   ],
   "source": [
    "Data.var().head()\n",
    "\n"
   ]
  },
  {
   "cell_type": "code",
   "execution_count": 33,
   "metadata": {},
   "outputs": [
    {
     "data": {
      "text/plain": [
       "0      19.276970\n",
       "1      33.355743\n",
       "2      30.162276\n",
       "3      19.967903\n",
       "4    2355.575927\n",
       "dtype: float64"
      ]
     },
     "execution_count": 33,
     "metadata": {},
     "output_type": "execute_result"
    }
   ],
   "source": [
    "Data.std().head()"
   ]
  },
  {
   "cell_type": "code",
   "execution_count": 34,
   "metadata": {},
   "outputs": [
    {
     "data": {
      "text/plain": [
       "0       4.546599\n",
       "1      43.795386\n",
       "2      14.744586\n",
       "3       9.677268\n",
       "4    1189.439446\n",
       "dtype: float64"
      ]
     },
     "execution_count": 34,
     "metadata": {},
     "output_type": "execute_result"
    }
   ],
   "source": [
    "Data.median().head()"
   ]
  },
  {
   "cell_type": "code",
   "execution_count": 35,
   "metadata": {},
   "outputs": [
    {
     "data": {
      "text/html": [
       "<div>\n",
       "<style scoped>\n",
       "    .dataframe tbody tr th:only-of-type {\n",
       "        vertical-align: middle;\n",
       "    }\n",
       "\n",
       "    .dataframe tbody tr th {\n",
       "        vertical-align: top;\n",
       "    }\n",
       "\n",
       "    .dataframe thead th {\n",
       "        text-align: right;\n",
       "    }\n",
       "</style>\n",
       "<table border=\"1\" class=\"dataframe\">\n",
       "  <thead>\n",
       "    <tr style=\"text-align: right;\">\n",
       "      <th></th>\n",
       "      <th>0</th>\n",
       "      <th>1</th>\n",
       "      <th>2</th>\n",
       "      <th>3</th>\n",
       "      <th>4</th>\n",
       "      <th>5</th>\n",
       "      <th>6</th>\n",
       "      <th>7</th>\n",
       "      <th>8</th>\n",
       "      <th>9</th>\n",
       "    </tr>\n",
       "  </thead>\n",
       "  <tbody>\n",
       "    <tr>\n",
       "      <th>0</th>\n",
       "      <td>0.259908</td>\n",
       "      <td>0.727303</td>\n",
       "      <td>5.361895</td>\n",
       "      <td>1.623040</td>\n",
       "      <td>60.020162</td>\n",
       "      <td>10.788095</td>\n",
       "      <td>48.265106</td>\n",
       "      <td>0.801512</td>\n",
       "      <td>75.431870</td>\n",
       "      <td>8.960057</td>\n",
       "    </tr>\n",
       "    <tr>\n",
       "      <th>1</th>\n",
       "      <td>0.276152</td>\n",
       "      <td>0.795953</td>\n",
       "      <td>5.987155</td>\n",
       "      <td>1.793295</td>\n",
       "      <td>62.583320</td>\n",
       "      <td>10.806658</td>\n",
       "      <td>52.811346</td>\n",
       "      <td>1.004364</td>\n",
       "      <td>81.934956</td>\n",
       "      <td>9.513649</td>\n",
       "    </tr>\n",
       "    <tr>\n",
       "      <th>2</th>\n",
       "      <td>0.295149</td>\n",
       "      <td>0.871625</td>\n",
       "      <td>6.138592</td>\n",
       "      <td>2.093416</td>\n",
       "      <td>69.106760</td>\n",
       "      <td>11.668699</td>\n",
       "      <td>53.373166</td>\n",
       "      <td>1.149157</td>\n",
       "      <td>90.277670</td>\n",
       "      <td>10.322741</td>\n",
       "    </tr>\n",
       "    <tr>\n",
       "      <th>3</th>\n",
       "      <td>0.317401</td>\n",
       "      <td>1.341207</td>\n",
       "      <td>6.767427</td>\n",
       "      <td>2.167592</td>\n",
       "      <td>74.614786</td>\n",
       "      <td>12.054990</td>\n",
       "      <td>56.190224</td>\n",
       "      <td>1.368297</td>\n",
       "      <td>93.388359</td>\n",
       "      <td>10.907710</td>\n",
       "    </tr>\n",
       "    <tr>\n",
       "      <th>4</th>\n",
       "      <td>0.319184</td>\n",
       "      <td>2.581165</td>\n",
       "      <td>7.062744</td>\n",
       "      <td>2.357227</td>\n",
       "      <td>75.702485</td>\n",
       "      <td>12.103312</td>\n",
       "      <td>56.985862</td>\n",
       "      <td>1.483804</td>\n",
       "      <td>99.330394</td>\n",
       "      <td>14.538652</td>\n",
       "    </tr>\n",
       "  </tbody>\n",
       "</table>\n",
       "</div>"
      ],
      "text/plain": [
       "          0         1         2         3          4          5          6  \\\n",
       "0  0.259908  0.727303  5.361895  1.623040  60.020162  10.788095  48.265106   \n",
       "1  0.276152  0.795953  5.987155  1.793295  62.583320  10.806658  52.811346   \n",
       "2  0.295149  0.871625  6.138592  2.093416  69.106760  11.668699  53.373166   \n",
       "3  0.317401  1.341207  6.767427  2.167592  74.614786  12.054990  56.190224   \n",
       "4  0.319184  2.581165  7.062744  2.357227  75.702485  12.103312  56.985862   \n",
       "\n",
       "          7          8          9  \n",
       "0  0.801512  75.431870   8.960057  \n",
       "1  1.004364  81.934956   9.513649  \n",
       "2  1.149157  90.277670  10.322741  \n",
       "3  1.368297  93.388359  10.907710  \n",
       "4  1.483804  99.330394  14.538652  "
      ]
     },
     "execution_count": 35,
     "metadata": {},
     "output_type": "execute_result"
    }
   ],
   "source": [
    "Data.mode().head()"
   ]
  },
  {
   "cell_type": "code",
   "execution_count": 36,
   "metadata": {},
   "outputs": [
    {
     "data": {
      "text/plain": [
       "0    6.345326\n",
       "1   -0.461477\n",
       "2    1.983895\n",
       "3    7.345023\n",
       "4   -0.288927\n",
       "dtype: float64"
      ]
     },
     "execution_count": 36,
     "metadata": {},
     "output_type": "execute_result"
    }
   ],
   "source": [
    "Data.kurtosis().head()"
   ]
  },
  {
   "cell_type": "code",
   "execution_count": 37,
   "metadata": {},
   "outputs": [
    {
     "data": {
      "text/plain": [
       "0    2.525738\n",
       "1    0.489506\n",
       "2    1.749133\n",
       "3    2.574609\n",
       "4    0.933319\n",
       "dtype: float64"
      ]
     },
     "execution_count": 37,
     "metadata": {},
     "output_type": "execute_result"
    }
   ],
   "source": [
    "Data.skew().head()"
   ]
  },
  {
   "cell_type": "markdown",
   "metadata": {},
   "source": [
    "## Plot de retono logaritmico "
   ]
  },
  {
   "cell_type": "code",
   "execution_count": 38,
   "metadata": {},
   "outputs": [
    {
     "data": {
      "text/plain": [
       "<matplotlib.axes._subplots.AxesSubplot at 0x1a1e4a0da0>"
      ]
     },
     "execution_count": 38,
     "metadata": {},
     "output_type": "execute_result"
    },
    {
     "data": {
      "image/png": "[encoded data removed]",
      "text/plain": [
       "<Figure size 432x288 with 1 Axes>"
      ]
     },
     "metadata": {
      "needs_background": "light"
     },
     "output_type": "display_data"
    }
   ],
   "source": [
    "Data.plot()"
   ]
  },
  {
   "cell_type": "markdown",
   "metadata": {},
   "source": [
    "## Histograma "
   ]
  },
  {
   "cell_type": "code",
   "execution_count": 39,
   "metadata": {},
   "outputs": [
    {
     "data": {
      "text/plain": [
       "<matplotlib.axes._subplots.AxesSubplot at 0x1a1e628cf8>"
      ]
     },
     "execution_count": 39,
     "metadata": {},
     "output_type": "execute_result"
    },
    {
     "data": {
      "image/png": "[encoded data removed]",
      "text/plain": [
       "<Figure size 432x288 with 1 Axes>"
      ]
     },
     "metadata": {
      "needs_background": "light"
     },
     "output_type": "display_data"
    }
   ],
   "source": [
    "Data.plot.hist()"
   ]
  }
 ],
 "metadata": {
  "kernelspec": {
   "display_name": "Python 3",
   "language": "python",
   "name": "python3"
  },
  "language_info": {
   "codemirror_mode": {
    "name": "ipython",
    "version": 3
   },
   "file_extension": ".py",
   "mimetype": "text/x-python",
   "name": "python",
   "nbconvert_exporter": "python",
   "pygments_lexer": "ipython3",
   "version": "3.8.3"
  }
 },
 "nbformat": 4,
 "nbformat_minor": 2
}
