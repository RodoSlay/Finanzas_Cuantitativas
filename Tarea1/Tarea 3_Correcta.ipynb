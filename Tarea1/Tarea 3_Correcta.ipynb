{
 "cells": [
  {
   "cell_type": "markdown",
   "metadata": {},
   "source": [
    "<img style=\"float: left; margin: 30px 15px 15px 15px;\" src=\"https://pngimage.net/wp-content/uploads/2018/06/logo-iteso-png-5.png\" width=\"300\" height=\"500\" /> \n",
    "    \n",
    "    \n",
    "### <font color='navy'> Finanzas Cuantitativas. \n",
    "\n",
    "**Nombres:** Jesús Álvarez, Ariadna Galindo, Romina Gutierrez y Rodolfo Slay.\n",
    "\n",
    "**Fecha:** 9 de septiembre del 2020.\n",
    "\n",
    "**Expediente** : 714552, 718272, 718415 y 715214.\n"
   ]
  },
  {
   "cell_type": "markdown",
   "metadata": {},
   "source": [
    "# Tarea 3.1\n",
    "\n",
    "Revisit the example from previous class:\n",
    "\n",
    "\"*Buy a start up stock that doesn't pay dividends, estimate the Expected Results using Corporate Finance Theory the X factor Stochastic*\"Asume a normal distribution. \n",
    "\n",
    "    a) Analytical method \n",
    "    b) Simulate in excel/python to test accuracy\n"
   ]
  },
  {
   "cell_type": "markdown",
   "metadata": {},
   "source": [
    "### a) Método analítico"
   ]
  },
  {
   "cell_type": "code",
   "execution_count": 2,
   "metadata": {},
   "outputs": [
    {
     "name": "stdout",
     "output_type": "stream",
     "text": [
      "{'zip': '38103', 'sector': 'Consumer Cyclical', 'fullTimeEmployees': 55680, 'longBusinessSummary': 'AutoZone, Inc. retails and distributes automotive replacement parts and accessories. The company offers various products for cars, sport utility vehicles, vans, and light trucks, including new and remanufactured automotive hard parts, maintenance items, accessories, and non-automotive products. Its products include A/C compressors, batteries and accessories, bearings, belts and hoses, calipers, carburetors, chassis, clutches, CV axles, engines, fuel pumps, fuses, ignition and lighting products, mufflers, radiators, starters and alternators, thermostats, and water pumps. The company also offers maintenance products, such as antifreeze and windshield washer fluids; brake drums, rotors, shoes, and pads; brake and power steering fluids, and oil and fuel additives; oil and transmission fluids; oil, air, fuel, and transmission filters; oxygen sensors; paints and accessories; refrigerants and accessories; shock absorbers and struts; spark plugs and wires; and windshield wipers, as well as air fresheners, cell phone accessories, drinks and snacks, floor mats and seat covers, interior and exterior accessories, mirrors, performance products, protectants and cleaners, sealants and adhesives, steering wheel covers, stereos and radios, tools, and wash and wax products. In addition, it provides a sales program that offers commercial credit and delivery of parts and other products; and towing and tire repair services. Further, it sells automotive diagnostic and repair software under the ALLDATA brand through alldata.com and alldatadiy.com; and automotive hard parts, maintenance items, accessories, and non-automotive products through autozone.com. As of October 16, 2019, it operated 5,772 stores in the United States, the District of Columbia, Puerto Rico, and Saint Thomas; 604 stores in Mexico; and 35 stores in Brazil. AutoZone, Inc. was founded in 1979 and is based in Memphis, Tennessee.', 'city': 'Memphis', 'phone': '901-495-6500', 'state': 'TN', 'country': 'United States', 'companyOfficers': [], 'website': 'http://www.autozone.com', 'maxAge': 1, 'address1': '123 South Front Street', 'industry': 'Specialty Retail', 'previousClose': 1211.49, 'regularMarketOpen': 1216.98, 'twoHundredDayAverage': 1076.7668, 'trailingAnnualDividendYield': None, 'payoutRatio': 0, 'volume24Hr': None, 'regularMarketDayHigh': 1247.16, 'navPrice': None, 'averageDailyVolume10Day': 191916, 'totalAssets': None, 'regularMarketPreviousClose': 1211.49, 'fiftyDayAverage': 1194.836, 'trailingAnnualDividendRate': None, 'open': 1216.98, 'toCurrency': None, 'averageVolume10days': 191916, 'expireDate': None, 'yield': None, 'algorithm': None, 'dividendRate': None, 'exDividendDate': None, 'beta': 0.9136, 'circulatingSupply': None, 'startDate': None, 'regularMarketDayLow': 1212.76, 'priceHint': 2, 'currency': 'USD', 'trailingPE': 19.261713, 'regularMarketVolume': 173160, 'lastMarket': None, 'maxSupply': None, 'openInterest': None, 'marketCap': 28802140160, 'volumeAllCurrencies': None, 'strikePrice': None, 'averageVolume': 189692, 'priceToSalesTrailing12Months': 2.3853822, 'dayLow': 1212.76, 'ask': 1300, 'ytdReturn': None, 'askSize': 800, 'volume': 173160, 'fiftyTwoWeekHigh': 1274.41, 'forwardPE': 17.733353, 'fromCurrency': None, 'fiveYearAvgDividendYield': None, 'fiftyTwoWeekLow': 684.91, 'bid': 1239.53, 'tradeable': False, 'dividendYield': None, 'bidSize': 1100, 'dayHigh': 1247.16, 'exchange': 'NYQ', 'shortName': 'AutoZone, Inc.', 'longName': 'AutoZone, Inc.', 'exchangeTimezoneName': 'America/New_York', 'exchangeTimezoneShortName': 'EDT', 'isEsgPopulated': False, 'gmtOffSetMilliseconds': '-14400000', 'quoteType': 'EQUITY', 'symbol': 'AZO', 'messageBoardId': 'finmb_25307', 'market': 'us_market', 'annualHoldingsTurnover': None, 'enterpriseToRevenue': 2.988, 'beta3Year': None, 'profitMargins': 0.12901, 'enterpriseToEbitda': 14.03, '52WeekChange': 0.047168255, 'morningStarRiskRating': None, 'forwardEps': 69.53, 'revenueQuarterlyGrowth': None, 'sharesOutstanding': 23359400, 'fundInceptionDate': None, 'annualReportExpenseRatio': None, 'bookValue': -69.93, 'sharesShort': 473597, 'sharesPercentSharesOut': 0.020299999, 'fundFamily': None, 'lastFiscalYearEnd': 1567209600, 'heldPercentInstitutions': 0.96512, 'netIncomeToCommon': 1557744000, 'trailingEps': 64.013, 'lastDividendValue': None, 'SandP52WeekChange': 0.11026919, 'priceToBook': None, 'heldPercentInsiders': 0.00415, 'nextFiscalYearEnd': 1630368000, 'mostRecentQuarter': 1588982400, 'shortRatio': 2.74, 'sharesShortPreviousMonthDate': 1594771200, 'floatShares': 23265705, 'enterpriseValue': 36076736512, 'threeYearAverageReturn': None, 'lastSplitDate': 766886400, 'lastSplitFactor': '2:1', 'legalType': None, 'morningStarOverallRating': None, 'earningsQuarterlyGrowth': -0.155, 'dateShortInterest': 1597363200, 'pegRatio': 3.81, 'lastCapGain': None, 'shortPercentOfFloat': 0.020299999, 'sharesShortPriorMonth': 350062, 'category': None, 'fiveYearAverageReturn': None, 'regularMarketPrice': 1216.98, 'logo_url': 'https://logo.clearbit.com/autozone.com'}\n",
      "                                Value\n",
      "Earnings Date     2020-09-22 00:00:00\n",
      "Earnings Average                23.11\n",
      "Earnings Low                    20.51\n",
      "Earnings High                    26.1\n",
      "Revenue Average            4054260000\n",
      "Revenue Low                3794000000\n",
      "Revenue High               4345300000\n",
      "                                  Firm    To Grade From Grade Action\n",
      "Date                                                                \n",
      "2012-02-29 06:31:00          Citigroup         Buy              main\n",
      "2012-02-29 13:10:00                UBS     Neutral              main\n",
      "2012-04-03 06:53:00      Goldman Sachs         Buy                up\n",
      "2012-04-24 06:55:00          JP Morgan  Overweight                up\n",
      "2012-05-18 06:14:00      Credit Suisse  Outperform                up\n",
      "...                                ...         ...        ...    ...\n",
      "2020-05-27 11:33:06      Raymond James  Outperform              main\n",
      "2020-05-27 11:57:28    Nomura Instinet         Buy              main\n",
      "2020-05-27 13:40:41          JP Morgan  Overweight              main\n",
      "2020-05-27 13:59:57                UBS         Buy              main\n",
      "2020-09-08 10:48:05  Atlantic Equities  Overweight    Neutral     up\n",
      "\n",
      "[150 rows x 4 columns]\n"
     ]
    }
   ],
   "source": [
    "import yfinance as yf  \n",
    "import matplotlib.pyplot as plt\n",
    "import pandas as pd\n",
    "import numpy as np\n",
    "import seaborn as sns\n",
    "from scipy import stats\n",
    "\n",
    " \n",
    "\n",
    "#%% Get Data\n",
    "tickerSymbol = 'AZO'\n",
    "tickerData = yf.Ticker(tickerSymbol)\n",
    "print(tickerData.info)\n",
    "print(tickerData.calendar)\n",
    "print(tickerData.recommendations)\n",
    "data = tickerData.history(period='1d', start='2019-1-1', end='2020-05-25')"
   ]
  },
  {
   "cell_type": "code",
   "execution_count": null,
   "metadata": {},
   "outputs": [],
   "source": []
  }
 ],
 "metadata": {
  "kernelspec": {
   "display_name": "Python 3",
   "language": "python",
   "name": "python3"
  },
  "language_info": {
   "codemirror_mode": {
    "name": "ipython",
    "version": 3
   },
   "file_extension": ".py",
   "mimetype": "text/x-python",
   "name": "python",
   "nbconvert_exporter": "python",
   "pygments_lexer": "ipython3",
   "version": "3.7.1"
  }
 },
 "nbformat": 4,
 "nbformat_minor": 2
}
