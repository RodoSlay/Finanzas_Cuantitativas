{
 "cells": [
  {
   "cell_type": "markdown",
   "metadata": {},
   "source": [
    "<img style=\"float: left; margin: 30px 15px 15px 15px;\" src=\"https://pngimage.net/wp-content/uploads/2018/06/logo-iteso-png-5.png\" width=\"300\" height=\"500\" /> \n",
    "    \n",
    "    \n",
    "### <font color='navy'> Finanzas Cuantitativas. \n",
    "\n",
    "**Nombres:** Jesús Álvarez, Ariadna Galindo, Romina Gutierrez y Rodolfo Slay.\n",
    "\n",
    "**Fecha:** 24 de octubre del 2020.\n",
    "\n",
    "**Expediente** : 714552, 718272, 718415 y 715214.\n"
   ]
  },
  {
   "cell_type": "code",
   "execution_count": 1,
   "metadata": {},
   "outputs": [],
   "source": [
    "import pandas as pd\n",
    "import numpy as np"
   ]
  },
  {
   "cell_type": "code",
   "execution_count": 2,
   "metadata": {},
   "outputs": [],
   "source": [
    "data = pd.read_csv(\"Data_OilCompany.csv\")"
   ]
  },
  {
   "cell_type": "code",
   "execution_count": 3,
   "metadata": {},
   "outputs": [],
   "source": [
    "inv = -500000"
   ]
  },
  {
   "cell_type": "code",
   "execution_count": 4,
   "metadata": {},
   "outputs": [
    {
     "data": {
      "text/html": [
       "<div>\n",
       "<style scoped>\n",
       "    .dataframe tbody tr th:only-of-type {\n",
       "        vertical-align: middle;\n",
       "    }\n",
       "\n",
       "    .dataframe tbody tr th {\n",
       "        vertical-align: top;\n",
       "    }\n",
       "\n",
       "    .dataframe thead th {\n",
       "        text-align: right;\n",
       "    }\n",
       "</style>\n",
       "<table border=\"1\" class=\"dataframe\">\n",
       "  <thead>\n",
       "    <tr style=\"text-align: right;\">\n",
       "      <th></th>\n",
       "      <th>Year 1</th>\n",
       "      <th>Year 2</th>\n",
       "      <th>Year 3</th>\n",
       "      <th>Year 4</th>\n",
       "      <th>Year 5</th>\n",
       "    </tr>\n",
       "  </thead>\n",
       "  <tbody>\n",
       "    <tr>\n",
       "      <th>0</th>\n",
       "      <td>203,726.00</td>\n",
       "      <td>279,969.00</td>\n",
       "      <td>465,303.00</td>\n",
       "      <td>200,445.00</td>\n",
       "      <td>96,319.00</td>\n",
       "    </tr>\n",
       "    <tr>\n",
       "      <th>1</th>\n",
       "      <td>263,845.00</td>\n",
       "      <td>272,439.00</td>\n",
       "      <td>2,192.00</td>\n",
       "      <td>199,901.00</td>\n",
       "      <td>-</td>\n",
       "    </tr>\n",
       "    <tr>\n",
       "      <th>2</th>\n",
       "      <td>27,726.00</td>\n",
       "      <td>334,861.00</td>\n",
       "      <td>82,265.00</td>\n",
       "      <td>199,954.00</td>\n",
       "      <td>64,958.00</td>\n",
       "    </tr>\n",
       "    <tr>\n",
       "      <th>3</th>\n",
       "      <td>293,801.00</td>\n",
       "      <td>210,117.00</td>\n",
       "      <td>275,087.00</td>\n",
       "      <td>199,934.00</td>\n",
       "      <td>-</td>\n",
       "    </tr>\n",
       "    <tr>\n",
       "      <th>4</th>\n",
       "      <td>297,319.00</td>\n",
       "      <td>242,569.00</td>\n",
       "      <td>464,097.00</td>\n",
       "      <td>200,598.00</td>\n",
       "      <td>141,285.00</td>\n",
       "    </tr>\n",
       "  </tbody>\n",
       "</table>\n",
       "</div>"
      ],
      "text/plain": [
       "       Year 1        Year 2        Year 3        Year 4        Year 5  \n",
       "0   203,726.00    279,969.00    465,303.00    200,445.00     96,319.00 \n",
       "1   263,845.00    272,439.00      2,192.00    199,901.00          -    \n",
       "2    27,726.00    334,861.00     82,265.00    199,954.00     64,958.00 \n",
       "3   293,801.00    210,117.00    275,087.00    199,934.00          -    \n",
       "4   297,319.00    242,569.00    464,097.00    200,598.00    141,285.00 "
      ]
     },
     "execution_count": 4,
     "metadata": {},
     "output_type": "execute_result"
    }
   ],
   "source": [
    "data.head()"
   ]
  },
  {
   "cell_type": "code",
   "execution_count": 5,
   "metadata": {},
   "outputs": [],
   "source": [
    "def replace_text(x,to_replace,replacement):\n",
    "    try:\n",
    "        x= x.replace(to_replace,replacement)\n",
    "    except:\n",
    "        pass\n",
    "    return x"
   ]
  },
  {
   "cell_type": "code",
   "execution_count": 6,
   "metadata": {},
   "outputs": [],
   "source": [
    "for i in range(len(data.columns)): \n",
    "    data.iloc[:,i] = data.iloc[:,i].apply(replace_text,args=(',',''))"
   ]
  },
  {
   "cell_type": "code",
   "execution_count": 7,
   "metadata": {},
   "outputs": [],
   "source": [
    "for i in range(len(data.columns)): \n",
    "    data.iloc[:,i] = data.iloc[:,i].apply(replace_text,args=('.00',''))"
   ]
  },
  {
   "cell_type": "code",
   "execution_count": 8,
   "metadata": {},
   "outputs": [],
   "source": [
    "for i in range(len(data.columns)): \n",
    "    data.iloc[:,i] = data.iloc[:,i].apply(replace_text,args=('-','0'))"
   ]
  },
  {
   "cell_type": "code",
   "execution_count": 9,
   "metadata": {},
   "outputs": [
    {
     "data": {
      "text/html": [
       "<div>\n",
       "<style scoped>\n",
       "    .dataframe tbody tr th:only-of-type {\n",
       "        vertical-align: middle;\n",
       "    }\n",
       "\n",
       "    .dataframe tbody tr th {\n",
       "        vertical-align: top;\n",
       "    }\n",
       "\n",
       "    .dataframe thead th {\n",
       "        text-align: right;\n",
       "    }\n",
       "</style>\n",
       "<table border=\"1\" class=\"dataframe\">\n",
       "  <thead>\n",
       "    <tr style=\"text-align: right;\">\n",
       "      <th></th>\n",
       "      <th>Year 1</th>\n",
       "      <th>Year 2</th>\n",
       "      <th>Year 3</th>\n",
       "      <th>Year 4</th>\n",
       "      <th>Year 5</th>\n",
       "    </tr>\n",
       "  </thead>\n",
       "  <tbody>\n",
       "    <tr>\n",
       "      <th>0</th>\n",
       "      <td>203726</td>\n",
       "      <td>279969</td>\n",
       "      <td>465303</td>\n",
       "      <td>200445</td>\n",
       "      <td>96319</td>\n",
       "    </tr>\n",
       "    <tr>\n",
       "      <th>1</th>\n",
       "      <td>263845</td>\n",
       "      <td>272439</td>\n",
       "      <td>2192</td>\n",
       "      <td>199901</td>\n",
       "      <td>0</td>\n",
       "    </tr>\n",
       "    <tr>\n",
       "      <th>2</th>\n",
       "      <td>27726</td>\n",
       "      <td>334861</td>\n",
       "      <td>82265</td>\n",
       "      <td>199954</td>\n",
       "      <td>64958</td>\n",
       "    </tr>\n",
       "    <tr>\n",
       "      <th>3</th>\n",
       "      <td>293801</td>\n",
       "      <td>210117</td>\n",
       "      <td>275087</td>\n",
       "      <td>199934</td>\n",
       "      <td>0</td>\n",
       "    </tr>\n",
       "    <tr>\n",
       "      <th>4</th>\n",
       "      <td>297319</td>\n",
       "      <td>242569</td>\n",
       "      <td>464097</td>\n",
       "      <td>200598</td>\n",
       "      <td>141285</td>\n",
       "    </tr>\n",
       "  </tbody>\n",
       "</table>\n",
       "</div>"
      ],
      "text/plain": [
       "    Year 1     Year 2     Year 3     Year 4     Year 5  \n",
       "0    203726     279969     465303     200445      96319 \n",
       "1    263845     272439       2192     199901       0    \n",
       "2     27726     334861      82265     199954      64958 \n",
       "3    293801     210117     275087     199934       0    \n",
       "4    297319     242569     464097     200598     141285 "
      ]
     },
     "execution_count": 9,
     "metadata": {},
     "output_type": "execute_result"
    }
   ],
   "source": [
    "data.head()"
   ]
  },
  {
   "cell_type": "code",
   "execution_count": 10,
   "metadata": {},
   "outputs": [],
   "source": [
    "for i in range(len(data.columns)): \n",
    "    data.iloc[:,i] = data.iloc[:,i].astype(int)"
   ]
  },
  {
   "cell_type": "code",
   "execution_count": 11,
   "metadata": {},
   "outputs": [],
   "source": [
    "def IRR(row,invest):\n",
    "    i = [invest]\n",
    "    v = list(row) #Inversion en Negativo\n",
    "    ans = i + v\n",
    "    return np.irr(ans)"
   ]
  },
  {
   "cell_type": "code",
   "execution_count": 12,
   "metadata": {},
   "outputs": [],
   "source": [
    "Respuestas = pd.DataFrame(data = {'IRR':np.ones(len(data)),\n",
    "                                 'NPV':np.ones(len(data))}) "
   ]
  },
  {
   "cell_type": "code",
   "execution_count": 13,
   "metadata": {},
   "outputs": [],
   "source": [
    "for i in range(len(data)):\n",
    "    Respuestas.iloc[i,0] = IRR(data.iloc[i,:], inv)"
   ]
  },
  {
   "cell_type": "code",
   "execution_count": 14,
   "metadata": {},
   "outputs": [
    {
     "data": {
      "text/html": [
       "<div>\n",
       "<style scoped>\n",
       "    .dataframe tbody tr th:only-of-type {\n",
       "        vertical-align: middle;\n",
       "    }\n",
       "\n",
       "    .dataframe tbody tr th {\n",
       "        vertical-align: top;\n",
       "    }\n",
       "\n",
       "    .dataframe thead th {\n",
       "        text-align: right;\n",
       "    }\n",
       "</style>\n",
       "<table border=\"1\" class=\"dataframe\">\n",
       "  <thead>\n",
       "    <tr style=\"text-align: right;\">\n",
       "      <th></th>\n",
       "      <th>IRR</th>\n",
       "      <th>NPV</th>\n",
       "    </tr>\n",
       "  </thead>\n",
       "  <tbody>\n",
       "    <tr>\n",
       "      <th>0</th>\n",
       "      <td>0.433128</td>\n",
       "      <td>1.0</td>\n",
       "    </tr>\n",
       "    <tr>\n",
       "      <th>1</th>\n",
       "      <td>0.208285</td>\n",
       "      <td>1.0</td>\n",
       "    </tr>\n",
       "    <tr>\n",
       "      <th>2</th>\n",
       "      <td>0.131378</td>\n",
       "      <td>1.0</td>\n",
       "    </tr>\n",
       "    <tr>\n",
       "      <th>3</th>\n",
       "      <td>0.356542</td>\n",
       "      <td>1.0</td>\n",
       "    </tr>\n",
       "    <tr>\n",
       "      <th>4</th>\n",
       "      <td>0.502458</td>\n",
       "      <td>1.0</td>\n",
       "    </tr>\n",
       "  </tbody>\n",
       "</table>\n",
       "</div>"
      ],
      "text/plain": [
       "        IRR  NPV\n",
       "0  0.433128  1.0\n",
       "1  0.208285  1.0\n",
       "2  0.131378  1.0\n",
       "3  0.356542  1.0\n",
       "4  0.502458  1.0"
      ]
     },
     "execution_count": 14,
     "metadata": {},
     "output_type": "execute_result"
    }
   ],
   "source": [
    "Respuestas.head()"
   ]
  },
  {
   "cell_type": "code",
   "execution_count": 15,
   "metadata": {},
   "outputs": [],
   "source": [
    "r = 0.03\n",
    "for i in range(len(data)):\n",
    "    Respuestas.iloc[i,1] = np.npv(r,[inv] + list(data.iloc[i,:]))"
   ]
  },
  {
   "cell_type": "code",
   "execution_count": 16,
   "metadata": {},
   "outputs": [
    {
     "data": {
      "text/html": [
       "<div>\n",
       "<style scoped>\n",
       "    .dataframe tbody tr th:only-of-type {\n",
       "        vertical-align: middle;\n",
       "    }\n",
       "\n",
       "    .dataframe tbody tr th {\n",
       "        vertical-align: top;\n",
       "    }\n",
       "\n",
       "    .dataframe thead th {\n",
       "        text-align: right;\n",
       "    }\n",
       "</style>\n",
       "<table border=\"1\" class=\"dataframe\">\n",
       "  <thead>\n",
       "    <tr style=\"text-align: right;\">\n",
       "      <th></th>\n",
       "      <th>IRR</th>\n",
       "      <th>NPV</th>\n",
       "    </tr>\n",
       "  </thead>\n",
       "  <tbody>\n",
       "    <tr>\n",
       "      <th>0</th>\n",
       "      <td>0.433128</td>\n",
       "      <td>648686.428439</td>\n",
       "    </tr>\n",
       "    <tr>\n",
       "      <th>1</th>\n",
       "      <td>0.208285</td>\n",
       "      <td>192575.520946</td>\n",
       "    </tr>\n",
       "    <tr>\n",
       "      <th>2</th>\n",
       "      <td>0.131378</td>\n",
       "      <td>151531.064532</td>\n",
       "    </tr>\n",
       "    <tr>\n",
       "      <th>3</th>\n",
       "      <td>0.356542</td>\n",
       "      <td>412681.457044</td>\n",
       "    </tr>\n",
       "    <tr>\n",
       "      <th>4</th>\n",
       "      <td>0.502458</td>\n",
       "      <td>742120.676004</td>\n",
       "    </tr>\n",
       "  </tbody>\n",
       "</table>\n",
       "</div>"
      ],
      "text/plain": [
       "        IRR            NPV\n",
       "0  0.433128  648686.428439\n",
       "1  0.208285  192575.520946\n",
       "2  0.131378  151531.064532\n",
       "3  0.356542  412681.457044\n",
       "4  0.502458  742120.676004"
      ]
     },
     "execution_count": 16,
     "metadata": {},
     "output_type": "execute_result"
    }
   ],
   "source": [
    "Respuestas.head()"
   ]
  },
  {
   "cell_type": "code",
   "execution_count": 17,
   "metadata": {},
   "outputs": [
    {
     "name": "stdout",
     "output_type": "stream",
     "text": [
      "La probabilidad de que los datos superen a la tasa libre de riesgo es de:  0.9795\n"
     ]
    }
   ],
   "source": [
    "print('La probabilidad de que los datos superen a la tasa libre de riesgo es de: ', (np.sum(Respuestas['IRR'] > r)) / len(Respuestas))"
   ]
  },
  {
   "cell_type": "code",
   "execution_count": 18,
   "metadata": {},
   "outputs": [
    {
     "name": "stdout",
     "output_type": "stream",
     "text": [
      "La probabilidad de que la IRR supere el 35% es de:  0.3585\n"
     ]
    }
   ],
   "source": [
    "print('La probabilidad de que la IRR supere el 35% es de: ', (np.sum(Respuestas['IRR'] > .35)) / len(Respuestas))"
   ]
  },
  {
   "cell_type": "code",
   "execution_count": 19,
   "metadata": {},
   "outputs": [
    {
     "name": "stdout",
     "output_type": "stream",
     "text": [
      "La probabilidad de que los el valor supere los 2M es de:  0.0\n"
     ]
    }
   ],
   "source": [
    "print('La probabilidad de que los el valor supere los 2M es de: ', (np.sum(Respuestas['NPV'] > 2000000)) / len(Respuestas))"
   ]
  },
  {
   "cell_type": "code",
   "execution_count": 20,
   "metadata": {},
   "outputs": [
    {
     "name": "stdout",
     "output_type": "stream",
     "text": [
      "La probabilidad de que el IRR se encuentre entre 10 y 20% es de:  0.1655\n"
     ]
    }
   ],
   "source": [
    "print('La probabilidad de que el IRR se encuentre entre 10 y 20% es de: ', (np.sum((Respuestas['IRR'] > .10) & (Respuestas['IRR'] < .20)) / len(Respuestas)))"
   ]
  }
 ],
 "metadata": {
  "kernelspec": {
   "display_name": "Python 3",
   "language": "python",
   "name": "python3"
  },
  "language_info": {
   "codemirror_mode": {
    "name": "ipython",
    "version": 3
   },
   "file_extension": ".py",
   "mimetype": "text/x-python",
   "name": "python",
   "nbconvert_exporter": "python",
   "pygments_lexer": "ipython3",
   "version": "3.6.5"
  }
 },
 "nbformat": 4,
 "nbformat_minor": 2
}
