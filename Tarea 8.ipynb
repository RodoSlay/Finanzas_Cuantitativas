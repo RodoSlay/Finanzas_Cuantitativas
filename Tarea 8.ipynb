{
 "cells": [
  {
   "cell_type": "markdown",
   "metadata": {},
   "source": [
    "<img style=\"float: left; margin: 30px 15px 15px 15px;\" src=\"https://pngimage.net/wp-content/uploads/2018/06/logo-iteso-png-5.png\" width=\"300\" height=\"500\" /> \n",
    "    \n",
    "    \n",
    "### <font color='navy'> Finanzas Cuantitativas. \n",
    "\n",
    "**Nombres:** Jesús Álvarez, Ariadna Galindo, Romina Gutierrez y Rodolfo Slay.\n",
    "\n",
    "**Fecha:** 19 de octubre del 2020.\n",
    "\n",
    "**Expediente** : 714552, 718272, 713415 y 715214."
   ]
  },
  {
   "cell_type": "markdown",
   "metadata": {},
   "source": [
    "### GREEKS PUT OPTION\n",
    "$$ft = Ke^{−r(T −t)})N(−d2) − StN(−d1)$$\n",
    "$$d1 =\\frac{ln(\\frac{St}{K})+(r+\\frac{\\sigma^2}{2})(T −t)}{\\sigma\\sqrt{(T −t)}}$$\n",
    "$$d2 =\\frac{ln(\\frac{St}{K})+(\\frac{(r− \\sigma^2)}{2})(T −t)}{\\sigma√(T −t)}$$\n"
   ]
  },
  {
   "cell_type": "markdown",
   "metadata": {},
   "source": [
    "### DELTA\n",
    "$$\\Delta=\\frac{\\delta Vt}{\\delta St}$$\n",
    "$$\\Delta = Ke^{-r(T-t)} N´(-d_{2})\\frac{\\delta d_{2}}{\\delta}$$\n",
    "$$St - N(-d_{1}) StN´(-d_{1})\\frac{\\delta d_{1}}{\\delta St}$$\n",
    "$$\\frac{\\delta d_{1}}{\\delta St}=\\frac{1}{St\\sigma\\sqrt{(T-t)}}$$\n",
    "$$\\frac{\\delta d_{2}}{\\delta St}=\\frac{1}{St\\sigma\\sqrt{(T-t)}}$$\n",
    "$$\\Delta = Ke^{-r(T-t)} N´(-d_2)\\frac{1}{St\\sigma\\sqrt{(T-t)}} - N(-d_1) - StN´(-d_1)\\frac{1}{St\\sigma\\sqrt{(T-t)}}$$\n",
    "$$\\frac{\\delta d_{2}}{\\delta St}= \\frac{\\delta d_{1}}{\\delta St}$$\n",
    "$$\\Delta =-\\frac{\\delta d_{1}}{\\delta St} [-Ke^{-r(T-t)} N´(-d_2)  N(-d_1) + StN´(-d_1)]- N(-d_1)$$\n",
    "$$ Propety 1: StN´(d_1) = Ke^{-r(T-t)}N´(d_2):$$\n",
    "$$\\Delta = -N(-d_1)$$\n"
   ]
  },
  {
   "cell_type": "markdown",
   "metadata": {},
   "source": [
    "### GAMMA\n",
    "$$\\tau = \\frac{\\delta\\Delta}{\\delta St}$$\n",
    "$$\\tau = -N´(-d_1)\\frac{\\delta^2d_1}{\\delta S^2_t}$$\n",
    "$$\\frac{\\delta d_{1}}{\\delta St}=\\frac{1}{St\\sigma\\sqrt{(T-t)}}$$\n",
    "$$\\frac{\\delta^2d_1}{\\delta S^2_t} = \\frac{1}{S^2_t\\sigma\\sqrt{(T-t)}}$$\n",
    "$$\\frac{\\delta d_{2}}{\\delta St}=\\frac{1}{St\\sigma\\sqrt{(T-t)}}$$\n",
    "$$\\frac{\\delta^2d_2}{\\delta S^2_t} = \\frac{1}{S^2_t\\sigma\\sqrt{(T-t)}}$$\n",
    "$$\\tau = -N´(-d_1)[\\frac{1}{S^2_t\\sigma\\sqrt{(T-t)}}]$$\n"
   ]
  },
  {
   "cell_type": "markdown",
   "metadata": {},
   "source": [
    "### RHO\n",
    "$$\\rho = \\frac{\\delta V_t}{\\delta r}$$\n",
    "$$\\rho = -(T-t)Ke^{-r(T-t)}N(-d_2)+Ke^{-r(T-t)}N´(-d_2)\\frac{\\delta d_2}{\\delta r} - S_tN´(-d_1)\\frac{\\delta d_1}{\\delta r}$$\n",
    "$$\\frac{\\delta d_1}{\\delta r} = \\frac{\\sqrt{T-t}}{\\sigma}$$\n",
    "$$\\frac{\\delta d_2}{\\delta r} = \\frac{\\sqrt{T-t}}{\\sigma}$$\n",
    "$$\\frac{\\delta d_1}{\\delta r} = \\frac{\\delta d_2}{\\delta r}, so:$$\n",
    "$$\\rho=-(T-t)Ke^{-r(T-t)}N(-d_2)+\\frac{\\delta d_1}{\\delta r}[Ke^{-r(T-t)}N´(-d_2)-S_t N´(-d_1)$$\n",
    "$$Property 1: S_tN´(d_1) = Ke^{-r(T-t)} N(-d_2)$$\n",
    "$$\\rho= -(T-t)  Ke^{-r(T-t)} N(-d_2)$$\n"
   ]
  },
  {
   "cell_type": "markdown",
   "metadata": {},
   "source": [
    "### THETA\n",
    "$$\\Theta = \\frac{\\delta V_t}{\\delta \\tau}$$\n",
    "$$\\tau = (T-t):$$\n",
    "$$ft=Ke^{-r(T-t)} N(-d_2)-S_tN(-d_1)$$\n",
    "$$\\Theta=-[-rKe^{-r(T-t)} N(-d_2)+ Ke^{-r(T-t)} N´(-d_2)\\frac{\\delta d_2}{\\delta \\tau} - S_tN´(-d_1)\\frac{\\delta d_1}{\\delta \\tau}]$$\n",
    "$$\\frac{\\delta d_1}{\\delta \\tau}=\\frac{-1}{2\\sigma \\sqrt{\\tau}}[\\frac{ln(\\frac{S_t}{K})}{\\tau}- (r+\\frac{\\sigma^2}{2}$$\n",
    "$$\\frac{\\delta d_2}{\\delta \\tau}= \\frac{\\delta d_1}{\\delta \\tau}-\\frac{\\sigma}{2\\sqrt{\\tau}}$$\n",
    "$$\\frac{\\delta d_1}{\\delta \\tau}= \\frac{\\delta d_2}{\\delta \\tau}-\\frac{\\sigma}{2\\sqrt{\\tau}}:$$\n",
    "$$\\Theta = rKe^{-r(\\tau)}N(-d_2)+\\frac{1}{2}\\frac{\\sigma}{\\sqrt{\\tau}}S_tN´(-d_1)+\\frac{\\delta d_2}{\\delta \\tau}[-Ke^{-r(T-t)} N(-d_2)-S_tN(-d_1)]$$\n",
    "$$Property 1: S_tN´(d_1)=Ke^{-r(T-t)}N´(d_2), so:$$\n",
    "$$\\Theta = rKe^{-r(\\tau)}N(d_2)+\\frac{1}{2}\\frac{\\sigma}{\\sqrt{\\tau}}S_tN´(-d_1)$$"
   ]
  },
  {
   "cell_type": "markdown",
   "metadata": {},
   "source": [
    "### VEGA\n",
    "$$\\frac{\\delta d_2}{\\delta \\sigma}$$\n",
    "$$V= Ke^{-r(T-t)}N´(-d_2)\\frac{\\delta d_2}{\\delta \\sigma}-S_t N´(-d_1)\\frac{\\delta d_1}{\\delta \\sigma}$$\n",
    "$$\\frac{\\delta d_1}{\\delta\\sigma}=\\frac{-ln(\\frac{S_t}K)}{\\sigma \\sqrt{T-t}}-\\frac{r(T-t)}{\\sigma^2 \\sqrt{T-t}}+\\frac{T-t}{\\sqrt{T-t}}$$\n",
    "$$\\frac{\\delta d_2}{\\delta\\sigma}= \\frac{\\delta d_1}{\\delta\\sigma}- \\sqrt{T-t}$$\n",
    "$$\\frac{\\delta d_1}{\\delta\\sigma}= \\frac{\\delta d_2}{\\delta\\sigma}+\\sqrt{T-t} :$$\n",
    "$$V= -\\sqrt{T-t}S_tN´(-d_1)+\\frac{\\delta d_1}{\\delta \\sigma}[Ke^{-r(T-t)}N´(-d_2)-S_tN´(-d_1)]$$\n",
    "$$V= -\\sqrt{T-t}S_tN´(-d_1)$$\n"
   ]
  }
 ],
 "metadata": {
  "kernelspec": {
   "display_name": "Python 3",
   "language": "python",
   "name": "python3"
  },
  "language_info": {
   "codemirror_mode": {
    "name": "ipython",
    "version": 3
   },
   "file_extension": ".py",
   "mimetype": "text/x-python",
   "name": "python",
   "nbconvert_exporter": "python",
   "pygments_lexer": "ipython3",
   "version": "3.8.3"
  }
 },
 "nbformat": 4,
 "nbformat_minor": 4
}
