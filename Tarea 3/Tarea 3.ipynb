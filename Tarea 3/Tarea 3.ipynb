{
 "cells": [
  {
   "cell_type": "markdown",
   "metadata": {},
   "source": [
    "<img style=\"float: left; margin: 30px 15px 15px 15px;\" src=\"https://pngimage.net/wp-content/uploads/2018/06/logo-iteso-png-5.png\" width=\"300\" height=\"500\" /> \n",
    "    \n",
    "    \n",
    "### <font color='navy'> Finanzas Cuantitativas. \n",
    "\n",
    "**Nombres:** Jesús Álvarez, Ariadna Galindo, Romina Gutierrez y Rodolfo Slay.\n",
    "\n",
    "**Fecha:** 9 de septiembre del 2020.\n",
    "\n",
    "**Expediente** : 714552, 718272, 718415 y 715214.\n"
   ]
  },
  {
   "cell_type": "markdown",
   "metadata": {},
   "source": [
    "# Tarea 3.1\n",
    "\n",
    "Revisit the example from previous class:\n",
    "\n",
    "\"*Buy a start up stock that doesn't pay dividends, estimate the Expected Results using Corporate Finance Theory the X factor Stochastic*\"Asume a normal distribution. \n",
    "\n",
    "    a) Analytical method \n",
    "    b) Simulate in excel/python to test accuracy\n"
   ]
  },
  {
   "cell_type": "markdown",
   "metadata": {},
   "source": [
    "### a) Método analítico\n",
    "\n",
    "Recordemos la fórmula de normal ya que hemos asumido esta distribución. \n",
    "$$f(x)=\\frac{1}{\\sigma \\sqrt{2\\pi}}e^{\\frac{(x-\\mu)^2}{2\\sigma^2}}$$\n",
    "Volveremos a utilizar autozone (AZO)\n",
    "\n",
    "*Esperanza matemática*\n",
    "\n",
    "$$ r =  \\alpha + \\beta (m - rf) + rf $$\n",
    "\n",
    "$$ E[r] = E[\\alpha + \\beta (m - rf) + rf] $$\n",
    "$$ E[r] = E[\\alpha + \\beta (m - rf) + rf] $$\n",
    "$$ E[r] = E[\\alpha] + E[\\beta (m - rf)] + E[rf] $$\n",
    "$$ E[r] = E[\\alpha] + \\beta E[m - rf] + E[rf] $$\n",
    "$$ E[r] = E[\\alpha] + \\beta E[m] - \\beta E[rf] + E[rf] $$\n",
    "$$ E[r] = E[\\alpha] + \\beta E[m] - \\beta * rf + rf $$\n",
    "\n",
    "$$ E[r] = 0.12 - 0.8113 (359.0910) + 0.8113 * 0.03 + 0.03 $$\n",
    "\n",
    "$$ E[r] =  -291.1561 $$\n",
    "\n",
    "\n",
    "$$ r =  \\alpha + \\beta (m - rf) + rf $$\n",
    "\n",
    "$$ Var[r] = Var [\\alpha + \\beta (m - rf) + rf] $$\n",
    "$$ Var[r] = Var[\\alpha] + Var[\\beta (m - rf)] + Var[rf] + 2 *Cov(\\alpha,m)$$\n",
    "$$ Var[r] = Var[\\alpha] + \\beta^2 Var[m - rf] + Var[rf] + 2 *Cov(\\alpha,m)$$\n",
    "$$ Var[r] = Var[\\alpha] + \\beta^2 Var[m] - \\beta^2 Var[rf] + Var[rf] + 2 *Cov(\\alpha,m)$$\n",
    "$$ Var[r] = Var[\\alpha] + \\beta^2 Var[m] - \\beta^2 * 0 + 0 + 2 *Cov(\\alpha,m)$$\n",
    "$$ Var[r] = Var[\\alpha] + \\beta^2 Var[m] + 2 *Cov(\\alpha,m)$$\n",
    "$$ Var[r] = Var[\\alpha] + \\beta^2 Var[m] + 2 * \\sqrt{Var[\\alpha]*Var[m]}*Corr[\\alpha,m]$$\n",
    "\n",
    "$$ Var[r] = 17973.4348 + (-0.8113)^2 49126.3344 + 2 * \\sqrt{17973.4348*49126.3344}*0 $$\n",
    "\n",
    "$$ Var[r] = 50310.7659 $$"
   ]
  },
  {
   "cell_type": "markdown",
   "metadata": {},
   "source": [
    "### b) Simulación"
   ]
  },
  {
   "cell_type": "code",
   "execution_count": 1,
   "metadata": {},
   "outputs": [],
   "source": [
    "#importamos librerias \n",
    "import scipy.stats as st\n",
    "import statsmodels as sm\n",
    "import matplotlib\n",
    "import matplotlib.pyplot as plt\n",
    "import pandas as pd\n",
    "pd.core.common.is_list_like = pd.api.types.is_list_like\n",
    "import pandas_datareader.data as web \n",
    "import warnings\n",
    "import numpy as np"
   ]
  },
  {
   "cell_type": "code",
   "execution_count": 4,
   "metadata": {},
   "outputs": [],
   "source": [
    "#funcion para ajustar distribucion \n",
    "def best_fit_distribution(data, bins=1000, ax=None):\n",
    "    \"\"\"Model data by finding best fit distribution to data\"\"\"\n",
    "    # Get histogram of original data\n",
    "    y, x = np.histogram(data, bins=bins, density=True)\n",
    "    x = (x + np.roll(x, -1))[:-1] / 2.0\n",
    "    \n",
    "    DISTRIBUTIONS = [        \n",
    "         st.gennorm,st.genexpon,st.lognorm,st.lomax,st.maxwell,st.mielke,st.nakagami,st.ncx2,st.ncf,\n",
    "          st.nct,st.norm,st.powerlognorm, st.uniform\n",
    "         ,st.genexpon,st.lognorm,st.lomax,st.maxwell,st.mielke,st.nakagami,st.ncx2,st.ncf,\n",
    "          st.norm,st.powerlognorm, st.uniform\n",
    "    ]\n",
    "# Best holders\n",
    "    best_distribution = st.norm\n",
    "    best_params = (0.0, 1.0)\n",
    "    best_sse = np.inf\n",
    "    # Estimate distribution parameters from data\n",
    "    for distribution in DISTRIBUTIONS:\n",
    "\n",
    "        # Try to fit the distribution\n",
    "        try:\n",
    "            # Ignore warnings from data that can't be fit\n",
    "            with warnings.catch_warnings():\n",
    "                warnings.filterwarnings('ignore')\n",
    "\n",
    "                # fit dist to data\n",
    "                params = distribution.fit(data)\n",
    "\n",
    "                # Separate parts of parameters\n",
    "                arg = params[:-2]\n",
    "                loc = params[-2]\n",
    "                scale = params[-1]\n",
    "\n",
    "                # Calculate fitted PDF and error with fit in distribution\n",
    "                pdf = distribution.pdf(x, loc=loc, scale=scale, *arg)\n",
    "                sse = np.sum(np.power(y - pdf, 2.0))\n",
    "\n",
    "                # if axis pass in add to plot\n",
    "                try:\n",
    "                    if ax:\n",
    "                        pd.Series(pdf, x).plot(ax=ax)\n",
    "                \n",
    "                except Exception:\n",
    "                    pass\n",
    "\n",
    "                # identify if this distribution is better\n",
    "                if best_sse > sse > 0:\n",
    "                    best_distribution = distribution\n",
    "                    best_params = params\n",
    "                    best_sse = sse\n",
    "\n",
    "        except Exception:\n",
    "            pass\n",
    "\n",
    "    return (best_distribution.name, best_params)\n",
    "\n",
    "# Función para descargar precios de cierre ajustados:\n",
    "def get_adj_closes(tickers, start_date=None, end_date=None):\n",
    "    closes = web.DataReader(name=tickers, data_source='yahoo', start=start_date, end=end_date)\n",
    "    closes = closes['Adj Close']\n",
    "    closes.sort_index(inplace=True)\n",
    "    return closes\n",
    "# Información\n",
    "names = [\"AZO\", '^GSPC']\n",
    "start= '2019-09-09'"
   ]
  },
  {
   "cell_type": "code",
   "execution_count": 22,
   "metadata": {},
   "outputs": [
    {
     "name": "stdout",
     "output_type": "stream",
     "text": [
      "Beta: 0.8113251443694939\n",
      "AZO ~ N(242.35415277225084, 17973.43483142189)\n",
      "GSPC ~ N(359.09103567582434, 49126.33444843748)\n",
      "\n",
      "\n",
      "\n"
     ]
    }
   ],
   "source": [
    "closes= get_adj_closes(tickers =names,\n",
    "                      start_date = start)\n",
    "ret = closes.pct_change().dropna()\n",
    "azo=closes.iloc[:,0]\n",
    "gspc=closes.iloc[:,1]\n",
    "\n",
    "ret_azo = ret.iloc[:,0]\n",
    "ret_gspc = ret.iloc[:,1]\n",
    "\n",
    "Beta = gspc.corr(azo)\n",
    "print('Beta: ' + str(Beta))\n",
    "best_fit_azo, azo_params = best_fit_distribution(azo, 200)\n",
    "print('AZO ~ N(' + str(azo_params[0]*252) + ', ' + str(azo_params[1]*252**0.5) + ')')\n",
    "best_fit_gspc, gspc_params = best_fit_distribution(gspc, 200)\n",
    "print('GSPC ~ N(' + str(gspc_params[0]*252) + ', ' + str(gspc_params[1]*252**0.5) + ')')\n",
    "\n",
    "print('\\n\\n')"
   ]
  },
  {
   "cell_type": "markdown",
   "metadata": {},
   "source": [
    "# Tarea 3.2\n",
    "Using the properties of random variables and knowing the PDF of the sales product of each year answer analytically:\n",
    "\n",
    "    a) What are the expected product sales for year 1 and year 2?\n",
    "    b) What is the expected revenue in PV for the life of the product? What is the VAR?\n",
    "    c) What is the expected NPV and VAR for NPV?\n",
    "    d) Estimate the PDF of NVP and IRR answer analytically:\n",
    "        1. What the probability that the IRR is over the Risk free rate?\n",
    "        2. What the probability that the IRR is over 35%?\n",
    "        3. What the probability that the project value is over 2M?\n",
    "        4. What's the probability that the IRR is between 10% and 20%?\n",
    "        5. Do you get same responses as in Homework 1.1?"
   ]
  },
  {
   "cell_type": "code",
   "execution_count": null,
   "metadata": {},
   "outputs": [],
   "source": []
  }
 ],
 "metadata": {
  "kernelspec": {
   "display_name": "Python 3",
   "language": "python",
   "name": "python3"
  },
  "language_info": {
   "codemirror_mode": {
    "name": "ipython",
    "version": 3
   },
   "file_extension": ".py",
   "mimetype": "text/x-python",
   "name": "python",
   "nbconvert_exporter": "python",
   "pygments_lexer": "ipython3",
   "version": "3.8.3"
  }
 },
 "nbformat": 4,
 "nbformat_minor": 4
}
