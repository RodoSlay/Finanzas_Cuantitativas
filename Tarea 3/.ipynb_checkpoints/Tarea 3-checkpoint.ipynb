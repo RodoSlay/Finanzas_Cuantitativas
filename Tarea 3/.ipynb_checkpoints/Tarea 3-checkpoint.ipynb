{
 "cells": [
  {
   "cell_type": "markdown",
   "metadata": {},
   "source": [
    "<img style=\"float: left; margin: 30px 15px 15px 15px;\" src=\"https://pngimage.net/wp-content/uploads/2018/06/logo-iteso-png-5.png\" width=\"300\" height=\"500\" /> \n",
    "    \n",
    "    \n",
    "### <font color='navy'> Finanzas Cuantitativas. \n",
    "\n",
    "**Nombres:** Jesús Álvarez, Ariadna Galindo, Romina Gutierrez y Rodolfo Slay.\n",
    "\n",
    "**Fecha:** 9 de septiembre del 2020.\n",
    "\n",
    "**Expediente** : 714552, 718272, 718415 y 715214.\n"
   ]
  },
  {
   "cell_type": "markdown",
   "metadata": {},
   "source": [
    "# Tarea 3.1\n",
    "\n",
    "Revisit the example from previous class:\n",
    "\n",
    "\"*Buy a start up stock that doesn't pay dividends, estimate the Expected Results using Corporate Finance Theory the X factor Stochastic*\"Asume a normal distribution. \n",
    "\n",
    "    a) Analytical method \n",
    "    b) Simulate in excel/python to test accuracy\n"
   ]
  },
  {
   "cell_type": "markdown",
   "metadata": {},
   "source": [
    "### a) Método analítico\n",
    "\n",
    "Recordemos la fórmula de normal ya que hemos asumido esta distribución. \n",
    "$$f(x)=\\frac{1}{\\sigma \\sqrt{2\\pi}}e^{\\frac{(x-\\mu)^2}{2\\sigma^2}}$$\n",
    "Volveremos a utilizar autozone (AZO)\n",
    "\n",
    "*Esperanza matemática*\n",
    "\n",
    "$$ r =  \\alpha + \\beta (m - rf) + rf $$\n",
    "\n",
    "$$ E[r] = E[\\alpha + \\beta (m - rf) + rf] $$\n",
    "$$ E[r] = E[\\alpha + \\beta (m - rf) + rf] $$\n",
    "$$ E[r] = E[\\alpha] + E[\\beta (m - rf)] + E[rf] $$\n",
    "$$ E[r] = E[\\alpha] + \\beta E[m - rf] + E[rf] $$\n",
    "$$ E[r] = E[\\alpha] + \\beta E[m] - \\beta E[rf] + E[rf] $$\n",
    "$$ E[r] = E[\\alpha] + \\beta E[m] - \\beta * rf + rf $$\n",
    "\n",
    "$$ E[r] = 0.12 - 0.8113 (359.0910) + 0.8113 * 0.03 + 0.03 $$\n",
    "\n",
    "$$ E[r] =  -291.1561 $$\n",
    "\n",
    "\n",
    "$$ r =  \\alpha + \\beta (m - rf) + rf $$\n",
    "\n",
    "$$ Var[r] = Var [\\alpha + \\beta (m - rf) + rf] $$\n",
    "$$ Var[r] = Var[\\alpha] + Var[\\beta (m - rf)] + Var[rf] + 2 *Cov(\\alpha,m)$$\n",
    "$$ Var[r] = Var[\\alpha] + \\beta^2 Var[m - rf] + Var[rf] + 2 *Cov(\\alpha,m)$$\n",
    "$$ Var[r] = Var[\\alpha] + \\beta^2 Var[m] - \\beta^2 Var[rf] + Var[rf] + 2 *Cov(\\alpha,m)$$\n",
    "$$ Var[r] = Var[\\alpha] + \\beta^2 Var[m] - \\beta^2 * 0 + 0 + 2 *Cov(\\alpha,m)$$\n",
    "$$ Var[r] = Var[\\alpha] + \\beta^2 Var[m] + 2 *Cov(\\alpha,m)$$\n",
    "$$ Var[r] = Var[\\alpha] + \\beta^2 Var[m] + 2 * \\sqrt{Var[\\alpha]*Var[m]}*Corr[\\alpha,m]$$\n",
    "\n",
    "$$ Var[r] = 17973.4348 + (-0.8113)^2 49126.3344 + 2 * \\sqrt{17973.4348*49126.3344}*0 $$\n",
    "\n",
    "$$ Var[r] = 50310.7659 $$"
   ]
  },
  {
   "cell_type": "markdown",
   "metadata": {},
   "source": [
    "### b) Simulación"
   ]
  },
  {
   "cell_type": "code",
   "execution_count": 1,
   "metadata": {},
   "outputs": [],
   "source": [
    "#importamos librerias \n",
    "import scipy.stats as st\n",
    "import statsmodels as sm\n",
    "import matplotlib\n",
    "import matplotlib.pyplot as plt\n",
    "import pandas as pd\n",
    "pd.core.common.is_list_like = pd.api.types.is_list_like\n",
    "import pandas_datareader.data as web \n",
    "import warnings\n",
    "import numpy as np"
   ]
  },
  {
   "cell_type": "code",
   "execution_count": 2,
   "metadata": {},
   "outputs": [],
   "source": [
    "#funcion para ajustar distribucion \n",
    "def best_fit_distribution(data, bins=1000, ax=None):\n",
    "    \"\"\"Model data by finding best fit distribution to data\"\"\"\n",
    "    # Get histogram of original data\n",
    "    y, x = np.histogram(data, bins=bins, density=True)\n",
    "    x = (x + np.roll(x, -1))[:-1] / 2.0\n",
    "    \n",
    "    DISTRIBUTIONS = [        \n",
    "         st.gennorm,st.genexpon,st.lognorm,st.lomax,st.maxwell,st.mielke,st.nakagami,st.ncx2,st.ncf,\n",
    "          st.nct,st.norm,st.powerlognorm, st.uniform\n",
    "         ,st.genexpon,st.lognorm,st.lomax,st.maxwell,st.mielke,st.nakagami,st.ncx2,st.ncf,\n",
    "          st.norm,st.powerlognorm, st.uniform\n",
    "    ]\n",
    "# Best holders\n",
    "    best_distribution = st.norm\n",
    "    best_params = (0.0, 1.0)\n",
    "    best_sse = np.inf\n",
    "    # Estimate distribution parameters from data\n",
    "    for distribution in DISTRIBUTIONS:\n",
    "\n",
    "        # Try to fit the distribution\n",
    "        try:\n",
    "            # Ignore warnings from data that can't be fit\n",
    "            with warnings.catch_warnings():\n",
    "                warnings.filterwarnings('ignore')\n",
    "\n",
    "                # fit dist to data\n",
    "                params = distribution.fit(data)\n",
    "\n",
    "                # Separate parts of parameters\n",
    "                arg = params[:-2]\n",
    "                loc = params[-2]\n",
    "                scale = params[-1]\n",
    "\n",
    "                # Calculate fitted PDF and error with fit in distribution\n",
    "                pdf = distribution.pdf(x, loc=loc, scale=scale, *arg)\n",
    "                sse = np.sum(np.power(y - pdf, 2.0))\n",
    "\n",
    "                # if axis pass in add to plot\n",
    "                try:\n",
    "                    if ax:\n",
    "                        pd.Series(pdf, x).plot(ax=ax)\n",
    "                \n",
    "                except Exception:\n",
    "                    pass\n",
    "\n",
    "                # identify if this distribution is better\n",
    "                if best_sse > sse > 0:\n",
    "                    best_distribution = distribution\n",
    "                    best_params = params\n",
    "                    best_sse = sse\n",
    "\n",
    "        except Exception:\n",
    "            pass\n",
    "\n",
    "    return (best_distribution.name, best_params)\n",
    "\n",
    "# Función para descargar precios de cierre ajustados:\n",
    "def get_adj_closes(tickers, start_date=None, end_date=None):\n",
    "    closes = web.DataReader(name=tickers, data_source='yahoo', start=start_date, end=end_date)\n",
    "    closes = closes['Adj Close']\n",
    "    closes.sort_index(inplace=True)\n",
    "    return closes\n",
    "# Información\n",
    "names = [\"AZO\", '^GSPC']\n",
    "start= '2019-09-09'"
   ]
  },
  {
   "cell_type": "code",
   "execution_count": 3,
   "metadata": {
    "scrolled": true
   },
   "outputs": [
    {
     "name": "stdout",
     "output_type": "stream",
     "text": [
      "Beta: 0.8113251443694939\n",
      "AZO ~ mielke(11.156853586765806, 71.10453822199435)\n",
      "GSPC ~ gennorm(1.4249644272850173, 3094.6681851131198)\n",
      "\n",
      "\n",
      "\n"
     ]
    }
   ],
   "source": [
    "closes= get_adj_closes(tickers =names,\n",
    "                      start_date = start)\n",
    "ret = closes.pct_change().dropna()\n",
    "azo=closes.iloc[:,0]\n",
    "gspc=closes.iloc[:,1]\n",
    "\n",
    "ret_azo = ret.iloc[:,0]\n",
    "ret_gspc = ret.iloc[:,1]\n",
    "\n",
    "Beta = gspc.corr(azo)\n",
    "print('Beta: ' + str(Beta))\n",
    "best_fit_azo, azo_params = best_fit_distribution(azo, 200)\n",
    "print('AZO ~ '+best_fit_azo+'(' + str(azo_params[0]) + ', ' + str(azo_params[1]) + ')')\n",
    "best_fit_gspc, gspc_params = best_fit_distribution(gspc, 200)\n",
    "print('GSPC ~ '+best_fit_gspc+'(' + str(gspc_params[0]) + ', ' + str(gspc_params[1]) + ')')\n",
    "\n",
    "print('\\n\\n')"
   ]
  },
  {
   "cell_type": "code",
   "execution_count": null,
   "metadata": {},
   "outputs": [],
   "source": [
    "azo_params"
   ]
  },
  {
   "cell_type": "code",
   "execution_count": 6,
   "metadata": {},
   "outputs": [],
   "source": [
    "Sim_Azo = st.mielke.rvs(azo_params[0],azo_params[1],size=10000)"
   ]
  },
  {
   "cell_type": "code",
   "execution_count": 7,
   "metadata": {},
   "outputs": [
    {
     "data": {
      "text/plain": [
       "(array([  1.,   1.,   2.,   0.,   0.,   0.,   2.,   2.,   0.,   2.,   2.,\n",
       "          4.,   1.,   0.,   3.,   3.,   1.,   2.,   6.,   3.,   5.,   2.,\n",
       "          9.,  12.,   7.,   5.,  11.,  13.,  16.,  19.,  11.,  18.,  17.,\n",
       "         18.,  21.,  20.,  30.,  28.,  41.,  30.,  50.,  38.,  42.,  41.,\n",
       "         59.,  60.,  74.,  59.,  79.,  84.,  84., 105., 110., 105., 118.,\n",
       "        110., 125., 136., 158., 145., 187., 192., 224., 215., 246., 271.,\n",
       "        278., 306., 334., 307., 372., 363., 409., 417., 453., 457., 424.,\n",
       "        459., 415., 360., 333., 221., 206., 128.,  73.,  69.,  40.,  30.,\n",
       "         22.,  16.,   9.,   4.,   3.,   2.,   0.,   2.,   0.,   2.,   0.,\n",
       "          1.]),\n",
       " array([0.48483166, 0.4912375 , 0.49764334, 0.50404918, 0.51045502,\n",
       "        0.51686085, 0.52326669, 0.52967253, 0.53607837, 0.54248421,\n",
       "        0.54889005, 0.55529589, 0.56170172, 0.56810756, 0.5745134 ,\n",
       "        0.58091924, 0.58732508, 0.59373092, 0.60013675, 0.60654259,\n",
       "        0.61294843, 0.61935427, 0.62576011, 0.63216595, 0.63857179,\n",
       "        0.64497762, 0.65138346, 0.6577893 , 0.66419514, 0.67060098,\n",
       "        0.67700682, 0.68341265, 0.68981849, 0.69622433, 0.70263017,\n",
       "        0.70903601, 0.71544185, 0.72184769, 0.72825352, 0.73465936,\n",
       "        0.7410652 , 0.74747104, 0.75387688, 0.76028272, 0.76668855,\n",
       "        0.77309439, 0.77950023, 0.78590607, 0.79231191, 0.79871775,\n",
       "        0.80512359, 0.81152942, 0.81793526, 0.8243411 , 0.83074694,\n",
       "        0.83715278, 0.84355862, 0.84996445, 0.85637029, 0.86277613,\n",
       "        0.86918197, 0.87558781, 0.88199365, 0.88839949, 0.89480532,\n",
       "        0.90121116, 0.907617  , 0.91402284, 0.92042868, 0.92683452,\n",
       "        0.93324035, 0.93964619, 0.94605203, 0.95245787, 0.95886371,\n",
       "        0.96526955, 0.97167539, 0.97808122, 0.98448706, 0.9908929 ,\n",
       "        0.99729874, 1.00370458, 1.01011042, 1.01651625, 1.02292209,\n",
       "        1.02932793, 1.03573377, 1.04213961, 1.04854545, 1.05495129,\n",
       "        1.06135712, 1.06776296, 1.0741688 , 1.08057464, 1.08698048,\n",
       "        1.09338632, 1.09979215, 1.10619799, 1.11260383, 1.11900967,\n",
       "        1.12541551]),\n",
       " <a list of 100 Patch objects>)"
      ]
     },
     "execution_count": 7,
     "metadata": {},
     "output_type": "execute_result"
    },
    {
     "data": {
      "image/png": "[encoded data removed]",
      "text/plain": [
       "<Figure size 432x288 with 1 Axes>"
      ]
     },
     "metadata": {
      "needs_background": "light"
     },
     "output_type": "display_data"
    }
   ],
   "source": [
    "plt.hist(Sim_Azo, bins=100)"
   ]
  },
  {
   "cell_type": "markdown",
   "metadata": {},
   "source": [
    "# Tarea 3.2\n",
    "Using the properties of random variables and knowing the PDF of the sales product of each year answer analytically:\n",
    "\n",
    "    a) What are the expected product sales for year 1 and year 2?\n",
    "    b) What is the expected revenue in PV for the life of the product? What is the VAR?\n",
    "    c) What is the expected NPV and VAR for NPV?\n",
    "    d) Estimate the PDF of NVP and IRR answer analytically:\n",
    "        1. What the probability that the IRR is over the Risk free rate?\n",
    "        2. What the probability that the IRR is over 35%?\n",
    "        3. What the probability that the project value is over 2M?\n",
    "        4. What's the probability that the IRR is between 10% and 20%?\n",
    "        5. Do you get same responses as in Homework 1.1?"
   ]
  },
  {
   "cell_type": "code",
   "execution_count": 8,
   "metadata": {},
   "outputs": [],
   "source": [
    "data = pd.read_csv(\"Data_OilCompany.csv\")"
   ]
  },
  {
   "cell_type": "code",
   "execution_count": 9,
   "metadata": {},
   "outputs": [],
   "source": [
    "inv = -500000"
   ]
  },
  {
   "cell_type": "code",
   "execution_count": 10,
   "metadata": {},
   "outputs": [],
   "source": [
    "def replace_text(x,to_replace,replacement):\n",
    "    try:\n",
    "        x= x.replace(to_replace,replacement)\n",
    "    except:\n",
    "        pass\n",
    "    return x"
   ]
  },
  {
   "cell_type": "code",
   "execution_count": 11,
   "metadata": {},
   "outputs": [],
   "source": [
    "for i in range(len(data.columns)): \n",
    "    data.iloc[:,i] = data.iloc[:,i].apply(replace_text,args=(',',''))\n",
    "for i in range(len(data.columns)): \n",
    "    data.iloc[:,i] = data.iloc[:,i].apply(replace_text,args=('.00',''))\n",
    "for i in range(len(data.columns)): \n",
    "    data.iloc[:,i] = data.iloc[:,i].apply(replace_text,args=('-','0'))\n",
    "for i in range(len(data.columns)): \n",
    "    data.iloc[:,i] = data.iloc[:,i].astype(int)"
   ]
  },
  {
   "cell_type": "code",
   "execution_count": 12,
   "metadata": {},
   "outputs": [
    {
     "data": {
      "text/html": [
       "<div>\n",
       "<style scoped>\n",
       "    .dataframe tbody tr th:only-of-type {\n",
       "        vertical-align: middle;\n",
       "    }\n",
       "\n",
       "    .dataframe tbody tr th {\n",
       "        vertical-align: top;\n",
       "    }\n",
       "\n",
       "    .dataframe thead th {\n",
       "        text-align: right;\n",
       "    }\n",
       "</style>\n",
       "<table border=\"1\" class=\"dataframe\">\n",
       "  <thead>\n",
       "    <tr style=\"text-align: right;\">\n",
       "      <th></th>\n",
       "      <th>Year 1</th>\n",
       "      <th>Year 2</th>\n",
       "      <th>Year 3</th>\n",
       "      <th>Year 4</th>\n",
       "      <th>Year 5</th>\n",
       "    </tr>\n",
       "  </thead>\n",
       "  <tbody>\n",
       "    <tr>\n",
       "      <th>0</th>\n",
       "      <td>203726</td>\n",
       "      <td>279969</td>\n",
       "      <td>465303</td>\n",
       "      <td>200445</td>\n",
       "      <td>96319</td>\n",
       "    </tr>\n",
       "    <tr>\n",
       "      <th>1</th>\n",
       "      <td>263845</td>\n",
       "      <td>272439</td>\n",
       "      <td>2192</td>\n",
       "      <td>199901</td>\n",
       "      <td>0</td>\n",
       "    </tr>\n",
       "    <tr>\n",
       "      <th>2</th>\n",
       "      <td>27726</td>\n",
       "      <td>334861</td>\n",
       "      <td>82265</td>\n",
       "      <td>199954</td>\n",
       "      <td>64958</td>\n",
       "    </tr>\n",
       "    <tr>\n",
       "      <th>3</th>\n",
       "      <td>293801</td>\n",
       "      <td>210117</td>\n",
       "      <td>275087</td>\n",
       "      <td>199934</td>\n",
       "      <td>0</td>\n",
       "    </tr>\n",
       "    <tr>\n",
       "      <th>4</th>\n",
       "      <td>297319</td>\n",
       "      <td>242569</td>\n",
       "      <td>464097</td>\n",
       "      <td>200598</td>\n",
       "      <td>141285</td>\n",
       "    </tr>\n",
       "    <tr>\n",
       "      <th>...</th>\n",
       "      <td>...</td>\n",
       "      <td>...</td>\n",
       "      <td>...</td>\n",
       "      <td>...</td>\n",
       "      <td>...</td>\n",
       "    </tr>\n",
       "    <tr>\n",
       "      <th>1995</th>\n",
       "      <td>237561</td>\n",
       "      <td>270469</td>\n",
       "      <td>115291</td>\n",
       "      <td>199807</td>\n",
       "      <td>61051</td>\n",
       "    </tr>\n",
       "    <tr>\n",
       "      <th>1996</th>\n",
       "      <td>216529</td>\n",
       "      <td>261005</td>\n",
       "      <td>86027</td>\n",
       "      <td>200510</td>\n",
       "      <td>0</td>\n",
       "    </tr>\n",
       "    <tr>\n",
       "      <th>1997</th>\n",
       "      <td>250277</td>\n",
       "      <td>220901</td>\n",
       "      <td>481138</td>\n",
       "      <td>199800</td>\n",
       "      <td>2573</td>\n",
       "    </tr>\n",
       "    <tr>\n",
       "      <th>1998</th>\n",
       "      <td>251051</td>\n",
       "      <td>248136</td>\n",
       "      <td>380400</td>\n",
       "      <td>200100</td>\n",
       "      <td>124209</td>\n",
       "    </tr>\n",
       "    <tr>\n",
       "      <th>1999</th>\n",
       "      <td>219008</td>\n",
       "      <td>342254</td>\n",
       "      <td>144449</td>\n",
       "      <td>200241</td>\n",
       "      <td>0</td>\n",
       "    </tr>\n",
       "  </tbody>\n",
       "</table>\n",
       "<p>2000 rows × 5 columns</p>\n",
       "</div>"
      ],
      "text/plain": [
       "        Year 1      Year 2      Year 3      Year 4      Year 5  \n",
       "0         203726      279969      465303      200445       96319\n",
       "1         263845      272439        2192      199901           0\n",
       "2          27726      334861       82265      199954       64958\n",
       "3         293801      210117      275087      199934           0\n",
       "4         297319      242569      464097      200598      141285\n",
       "...          ...         ...         ...         ...         ...\n",
       "1995      237561      270469      115291      199807       61051\n",
       "1996      216529      261005       86027      200510           0\n",
       "1997      250277      220901      481138      199800        2573\n",
       "1998      251051      248136      380400      200100      124209\n",
       "1999      219008      342254      144449      200241           0\n",
       "\n",
       "[2000 rows x 5 columns]"
      ]
     },
     "execution_count": 12,
     "metadata": {},
     "output_type": "execute_result"
    }
   ],
   "source": [
    "data"
   ]
  },
  {
   "cell_type": "code",
   "execution_count": 13,
   "metadata": {},
   "outputs": [
    {
     "data": {
      "text/plain": [
       "('norm', 'gennorm', 'mielke', 'norm', 'nakagami')"
      ]
     },
     "execution_count": 13,
     "metadata": {},
     "output_type": "execute_result"
    }
   ],
   "source": [
    "best_fit_y1, y1_params=best_fit_distribution(data.iloc[:,0],200)\n",
    "best_fit_y2, y2_params=best_fit_distribution(data.iloc[:,1],200)\n",
    "best_fit_y3, y3_params=best_fit_distribution(data.iloc[:,2],200)\n",
    "best_fit_y4, y4_params=best_fit_distribution(data.iloc[:,3],200)\n",
    "best_fit_y5, y5_params=best_fit_distribution(data.iloc[:,4],200)\n",
    "best_fit_y1,best_fit_y2,best_fit_y3,best_fit_y4,best_fit_y5"
   ]
  },
  {
   "cell_type": "code",
   "execution_count": 14,
   "metadata": {},
   "outputs": [
    {
     "data": {
      "image/png": "[encoded data removed]",
      "text/plain": [
       "<Figure size 432x288 with 1 Axes>"
      ]
     },
     "metadata": {
      "needs_background": "light"
     },
     "output_type": "display_data"
    }
   ],
   "source": [
    "n = 10000\n",
    "Sim1=np.random.normal(loc=y1_params[0],scale=y1_params[1],size=n)\n",
    "plt.hist(Sim1,bins=100)\n",
    "plt.grid()\n",
    "plt.show()"
   ]
  },
  {
   "cell_type": "code",
   "execution_count": 15,
   "metadata": {},
   "outputs": [
    {
     "data": {
      "image/png": "[encoded data removed]",
      "text/plain": [
       "<Figure size 432x288 with 1 Axes>"
      ]
     },
     "metadata": {
      "needs_background": "light"
     },
     "output_type": "display_data"
    }
   ],
   "source": [
    "Sim2=st.gennorm.rvs(y2_params[0],size=n)\n",
    "plt.hist(Sim2,bins=100)\n",
    "plt.grid()\n",
    "plt.show()"
   ]
  },
  {
   "cell_type": "code",
   "execution_count": 16,
   "metadata": {},
   "outputs": [],
   "source": [
    "def IRR(row,invest):\n",
    "    i = [invest]\n",
    "    v = list(row) #Inversion en Negativo\n",
    "    ans = i + v\n",
    "    return np.irr(ans)"
   ]
  },
  {
   "cell_type": "code",
   "execution_count": null,
   "metadata": {},
   "outputs": [],
   "source": [
    "Res1 = IRR(Sim1,inv)\n",
    "Res2 = IRR(Sim2,inv)"
   ]
  },
  {
   "cell_type": "code",
   "execution_count": null,
   "metadata": {},
   "outputs": [],
   "source": [
    "Res1,Res2"
   ]
  },
  {
   "cell_type": "code",
   "execution_count": null,
   "metadata": {},
   "outputs": [],
   "source": []
  },
  {
   "cell_type": "code",
   "execution_count": null,
   "metadata": {},
   "outputs": [],
   "source": []
  },
  {
   "cell_type": "code",
   "execution_count": null,
   "metadata": {},
   "outputs": [],
   "source": [
    "def IRR(row,invest):\n",
    "    i = [invest]\n",
    "    v = list(row) #Inversion en Negativo\n",
    "    ans = i + v\n",
    "    return np.irr(ans)"
   ]
  },
  {
   "cell_type": "code",
   "execution_count": null,
   "metadata": {},
   "outputs": [],
   "source": [
    "Respuestas = pd.DataFrame(data = {'IRR':np.ones(len(data)),\n",
    "                                 'NPV':np.ones(len(data))}) "
   ]
  },
  {
   "cell_type": "code",
   "execution_count": null,
   "metadata": {},
   "outputs": [],
   "source": [
    "for i in range(len(data)):\n",
    "    Respuestas.iloc[i,0] = IRR(data.iloc[i,:], inv)"
   ]
  },
  {
   "cell_type": "code",
   "execution_count": null,
   "metadata": {},
   "outputs": [],
   "source": [
    "Respuestas.head()"
   ]
  },
  {
   "cell_type": "code",
   "execution_count": null,
   "metadata": {},
   "outputs": [],
   "source": [
    "r = 0.03\n",
    "for i in range(len(data)):\n",
    "    Respuestas.iloc[i,1] = np.npv(r,[inv] + list(data.iloc[i,:]))"
   ]
  },
  {
   "cell_type": "code",
   "execution_count": null,
   "metadata": {},
   "outputs": [],
   "source": [
    "Respuestas.head()"
   ]
  },
  {
   "cell_type": "code",
   "execution_count": null,
   "metadata": {},
   "outputs": [],
   "source": [
    "print('La probabilidad de que los datos superen a la tasa libre de riesgo es de: ', (np.sum(Respuestas['IRR'] > r)) / len(Respuestas))"
   ]
  },
  {
   "cell_type": "code",
   "execution_count": null,
   "metadata": {},
   "outputs": [],
   "source": [
    "print('La probabilidad de que la IRR supere el 35% es de: ', (np.sum(Respuestas['IRR'] > .35)) / len(Respuestas))"
   ]
  },
  {
   "cell_type": "code",
   "execution_count": null,
   "metadata": {},
   "outputs": [],
   "source": [
    "print('La probabilidad de que los el valor supere los 2M es de: ', (np.sum(Respuestas['NPV'] > 2000000)) / len(Respuestas))"
   ]
  },
  {
   "cell_type": "code",
   "execution_count": null,
   "metadata": {},
   "outputs": [],
   "source": [
    "print('La probabilidad de que el IRR se encuentre entre 10 y 20% es de: ', (np.sum((Respuestas['IRR'] > .10) & (Respuestas['IRR'] < .20)) / len(Respuestas)))"
   ]
  },
  {
   "cell_type": "code",
   "execution_count": 76,
   "metadata": {},
   "outputs": [
    {
     "data": {
      "text/plain": [
       "(495.43228032394484, 249985.50329507806, 99873.93086831764)"
      ]
     },
     "execution_count": 76,
     "metadata": {},
     "output_type": "execute_result"
    }
   ],
   "source": [
    "y2_params"
   ]
  },
  {
   "cell_type": "code",
   "execution_count": null,
   "metadata": {},
   "outputs": [],
   "source": []
  }
 ],
 "metadata": {
  "kernelspec": {
   "display_name": "Python 3",
   "language": "python",
   "name": "python3"
  },
  "language_info": {
   "codemirror_mode": {
    "name": "ipython",
    "version": 3
   },
   "file_extension": ".py",
   "mimetype": "text/x-python",
   "name": "python",
   "nbconvert_exporter": "python",
   "pygments_lexer": "ipython3",
   "version": "3.7.1"
  }
 },
 "nbformat": 4,
 "nbformat_minor": 4
}
