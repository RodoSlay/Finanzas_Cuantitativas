{
 "cells": [
  {
   "cell_type": "markdown",
   "metadata": {},
   "source": [
    "<img style=\"float: left; margin: 30px 15px 15px 15px;\" src=\"https://pngimage.net/wp-content/uploads/2018/06/logo-iteso-png-5.png\" width=\"300\" height=\"500\" /> \n",
    "    \n",
    "    \n",
    "### <font color='navy'> Finanzas Cuantitativas. \n",
    "\n",
    "**Nombres:** Jesús Álvarez, Ariadna Galindo, Romina Gutierrez y Rodolfo Slay.\n",
    "\n",
    "**Fecha:** 24 de octubre del 2020.\n",
    "\n",
    "**Expediente** : 714552, 718272, 718415 y 715214.\n"
   ]
  },
  {
   "cell_type": "markdown",
   "metadata": {},
   "source": [
    "# Tarea 3.1\n",
    "\n",
    "Revisit the example from previous class:\n",
    "\n",
    "\"*Buy a start up stock that doesn't pay dividends, estimate the Expected Results using Corporate Finance Theory the X factor Stochastic*\"Asume a normal distribution. \n",
    "\n",
    "    a) Analytical method \n",
    "    b) Simulate in excel/python to test accuracy\n"
   ]
  },
  {
   "cell_type": "markdown",
   "metadata": {},
   "source": [
    "### a) Método analítico"
   ]
  },
  {
   "cell_type": "markdown",
   "metadata": {},
   "source": [
    "### b) Simulación"
   ]
  },
  {
   "cell_type": "code",
   "execution_count": null,
   "metadata": {},
   "outputs": [],
   "source": []
  },
  {
   "cell_type": "markdown",
   "metadata": {},
   "source": [
    "# Tarea 3.2\n",
    "Using the properties of random variables and knowing the PDF of the sales product of each year answer analytically:\n",
    "\n",
    "    a) What are the expected product sales for year 1 and year 2?\n",
    "    b) What is the expected revenue in PV for the life of the product? What is the VAR?\n",
    "    c) What is the expected NPV and VAR for NPV?\n",
    "    d) Estimate the PDF of NVP and IRR answer analytically:\n",
    "        1. What the probability that the IRR is over the Risk free rate?\n",
    "        2. What the probability that the IRR is over 35%?\n",
    "        3. What the probability that the project value is over 2M?\n",
    "        4. What's the probability that the IRR is between 10% and 20%?\n",
    "        5. Do you get same responses as in Homework 1.1?"
   ]
  }
 ],
 "metadata": {
  "kernelspec": {
   "display_name": "Python 3",
   "language": "python",
   "name": "python3"
  },
  "language_info": {
   "codemirror_mode": {
    "name": "ipython",
    "version": 3
   },
   "file_extension": ".py",
   "mimetype": "text/x-python",
   "name": "python",
   "nbconvert_exporter": "python",
   "pygments_lexer": "ipython3",
   "version": "3.8.3"
  }
 },
 "nbformat": 4,
 "nbformat_minor": 4
}
